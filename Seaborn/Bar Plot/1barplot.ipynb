{
 "cells": [
  {
   "cell_type": "code",
   "execution_count": 23,
   "source": [
    "'''\n",
    "@Author: Rashmi\n",
    "@Date: 2021-10-8 15:20\n",
    "@Last Modified by: Rashmi\n",
    "@Last Modified time: 2021-10-8 15:48\n",
    "@Title :Write a program to draw bar plot of sex against survived for a dataset given in the url\n",
    "'''\n",
    "import matplotlib.pyplot as plt\n",
    "import seaborn as sns\n",
    "\n",
    "sns.get_dataset_names() #to get dataset names\n",
    "store = sns.load_dataset('titanic') #to load dataset to variable storing\n",
    "# print(storing.head())\n",
    "sns.barplot(x='sex',y='survived',data=store)\n",
    "\n"
   ],
   "outputs": [
    {
     "output_type": "execute_result",
     "data": {
      "text/plain": [
       "<AxesSubplot:xlabel='sex', ylabel='survived'>"
      ]
     },
     "metadata": {},
     "execution_count": 23
    },
    {
     "output_type": "display_data",
     "data": {
      "image/png": "[encoded data removed]",
      "text/plain": [
       "<Figure size 432x288 with 1 Axes>"
      ]
     },
     "metadata": {
      "needs_background": "light"
     }
    }
   ],
   "metadata": {}
  }
 ],
 "metadata": {
  "orig_nbformat": 4,
  "language_info": {
   "name": "python",
   "version": "3.8.10"
  },
  "kernelspec": {
   "name": "python3",
   "display_name": "Python 3.8.10 64-bit"
  },
  "interpreter": {
   "hash": "916dbcbb3f70747c44a77c7bcd40155683ae19c65e1c03b4aa3499c5328201f1"
  }
 },
 "nbformat": 4,
 "nbformat_minor": 2
}