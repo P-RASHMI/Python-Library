{
 "cells": [
  {
   "cell_type": "code",
   "execution_count": 4,
   "source": [
    "'''\n",
    "@Author: Rashmi\n",
    "@Date: 2021-10-9 13:33\n",
    "@Last Modified by: Rashmi\n",
    "@Last Modified time: 2021-10-9 13:45\n",
    "@Title :Write a program to draw a scatter plot for a given dataset and show datalabels on hover\n",
    "https://raw.githubusercontent.com/plotly/datasets/master/2014_usa_states.csv'''\n",
    "\n",
    "import numpy as np\n",
    "import plotly.express as px\n",
    "import pandas as pd\n",
    "\n",
    "df = pd.read_csv('2014_usa_states.csv')\n",
    "fig = px.scatter(df, x = 'Rank', y = 'State',color ='Postal',hover_data=['Population']) #hoverdata takes\n",
    "fig.show()"
   ],
   "outputs": [
    {
     "output_type": "display_data",
     "data": {
      "application/vnd.plotly.v1+json": {
       "config": {
        "plotlyServerURL": "https://plot.ly"
       },
       "data": [
        {
         "customdata": [
          [
           4849377
          ]
         ],
         "hovertemplate": "Postal=AL<br>Rank=%{x}<br>State=%{y}<br>Population=%{customdata[0]}<extra></extra>",
         "legendgroup": "AL",
         "marker": {
          "color": "#636efa",
          "symbol": "circle"
         },
         "mode": "markers",
         "name": "AL",
         "orientation": "h",
         "showlegend": true,
         "type": "scatter",
         "x": [
          1
         ],
         "xaxis": "x",
         "y": [
          "Alabama"
         ],
         "yaxis": "y"
        },
        {
         "customdata": [
          [
           736732
          ]
         ],
         "hovertemplate": "Postal=AK<br>Rank=%{x}<br>State=%{y}<br>Population=%{customdata[0]}<extra></extra>",
         "legendgroup": "AK",
         "marker": {
          "color": "#EF553B",
          "symbol": "circle"
         },
         "mode": "markers",
         "name": "AK",
         "orientation": "h",
         "showlegend": true,
         "type": "scatter",
         "x": [
          2
         ],
         "xaxis": "x",
         "y": [
          "Alaska"
         ],
         "yaxis": "y"
        },
        {
         "customdata": [
          [
           6731484
          ]
         ],
         "hovertemplate": "Postal=AZ<br>Rank=%{x}<br>State=%{y}<br>Population=%{customdata[0]}<extra></extra>",
         "legendgroup": "AZ",
         "marker": {
          "color": "#00cc96",
          "symbol": "circle"
         },
         "mode": "markers",
         "name": "AZ",
         "orientation": "h",
         "showlegend": true,
         "type": "scatter",
         "x": [
          3
         ],
         "xaxis": "x",
         "y": [
          "Arizona"
         ],
         "yaxis": "y"
        },
        {
         "customdata": [
          [
           2966369
          ]
         ],
         "hovertemplate": "Postal=AR<br>Rank=%{x}<br>State=%{y}<br>Population=%{customdata[0]}<extra></extra>",
         "legendgroup": "AR",
         "marker": {
          "color": "#ab63fa",
          "symbol": "circle"
         },
         "mode": "markers",
         "name": "AR",
         "orientation": "h",
         "showlegend": true,
         "type": "scatter",
         "x": [
          4
         ],
         "xaxis": "x",
         "y": [
          "Arkansas"
         ],
         "yaxis": "y"
        },
        {
         "customdata": [
          [
           38802500
          ]
         ],
         "hovertemplate": "Postal=CA<br>Rank=%{x}<br>State=%{y}<br>Population=%{customdata[0]}<extra></extra>",
         "legendgroup": "CA",
         "marker": {
          "color": "#FFA15A",
          "symbol": "circle"
         },
         "mode": "markers",
         "name": "CA",
         "orientation": "h",
         "showlegend": true,
         "type": "scatter",
         "x": [
          5
         ],
         "xaxis": "x",
         "y": [
          "California"
         ],
         "yaxis": "y"
        },
        {
         "customdata": [
          [
           5355866
          ]
         ],
         "hovertemplate": "Postal=CO<br>Rank=%{x}<br>State=%{y}<br>Population=%{customdata[0]}<extra></extra>",
         "legendgroup": "CO",
         "marker": {
          "color": "#19d3f3",
          "symbol": "circle"
         },
         "mode": "markers",
         "name": "CO",
         "orientation": "h",
         "showlegend": true,
         "type": "scatter",
         "x": [
          6
         ],
         "xaxis": "x",
         "y": [
          "Colorado"
         ],
         "yaxis": "y"
        },
        {
         "customdata": [
          [
           3596677
          ]
         ],
         "hovertemplate": "Postal=CT<br>Rank=%{x}<br>State=%{y}<br>Population=%{customdata[0]}<extra></extra>",
         "legendgroup": "CT",
         "marker": {
          "color": "#FF6692",
          "symbol": "circle"
         },
         "mode": "markers",
         "name": "CT",
         "orientation": "h",
         "showlegend": true,
         "type": "scatter",
         "x": [
          7
         ],
         "xaxis": "x",
         "y": [
          "Connecticut"
         ],
         "yaxis": "y"
        },
        {
         "customdata": [
          [
           935614
          ]
         ],
         "hovertemplate": "Postal=DE<br>Rank=%{x}<br>State=%{y}<br>Population=%{customdata[0]}<extra></extra>",
         "legendgroup": "DE",
         "marker": {
          "color": "#B6E880",
          "symbol": "circle"
         },
         "mode": "markers",
         "name": "DE",
         "orientation": "h",
         "showlegend": true,
         "type": "scatter",
         "x": [
          8
         ],
         "xaxis": "x",
         "y": [
          "Delaware"
         ],
         "yaxis": "y"
        },
        {
         "customdata": [
          [
           658893
          ]
         ],
         "hovertemplate": "Postal=DC<br>Rank=%{x}<br>State=%{y}<br>Population=%{customdata[0]}<extra></extra>",
         "legendgroup": "DC",
         "marker": {
          "color": "#FF97FF",
          "symbol": "circle"
         },
         "mode": "markers",
         "name": "DC",
         "orientation": "h",
         "showlegend": true,
         "type": "scatter",
         "x": [
          9
         ],
         "xaxis": "x",
         "y": [
          "District of Columbia"
         ],
         "yaxis": "y"
        },
        {
         "customdata": [
          [
           19893297
          ]
         ],
         "hovertemplate": "Postal=FL<br>Rank=%{x}<br>State=%{y}<br>Population=%{customdata[0]}<extra></extra>",
         "legendgroup": "FL",
         "marker": {
          "color": "#FECB52",
          "symbol": "circle"
         },
         "mode": "markers",
         "name": "FL",
         "orientation": "h",
         "showlegend": true,
         "type": "scatter",
         "x": [
          10
         ],
         "xaxis": "x",
         "y": [
          "Florida"
         ],
         "yaxis": "y"
        },
        {
         "customdata": [
          [
           10097343
          ]
         ],
         "hovertemplate": "Postal=GA<br>Rank=%{x}<br>State=%{y}<br>Population=%{customdata[0]}<extra></extra>",
         "legendgroup": "GA",
         "marker": {
          "color": "#636efa",
          "symbol": "circle"
         },
         "mode": "markers",
         "name": "GA",
         "orientation": "h",
         "showlegend": true,
         "type": "scatter",
         "x": [
          11
         ],
         "xaxis": "x",
         "y": [
          "Georgia"
         ],
         "yaxis": "y"
        },
        {
         "customdata": [
          [
           1419561
          ]
         ],
         "hovertemplate": "Postal=HI<br>Rank=%{x}<br>State=%{y}<br>Population=%{customdata[0]}<extra></extra>",
         "legendgroup": "HI",
         "marker": {
          "color": "#EF553B",
          "symbol": "circle"
         },
         "mode": "markers",
         "name": "HI",
         "orientation": "h",
         "showlegend": true,
         "type": "scatter",
         "x": [
          12
         ],
         "xaxis": "x",
         "y": [
          "Hawaii"
         ],
         "yaxis": "y"
        },
        {
         "customdata": [
          [
           1634464
          ]
         ],
         "hovertemplate": "Postal=ID<br>Rank=%{x}<br>State=%{y}<br>Population=%{customdata[0]}<extra></extra>",
         "legendgroup": "ID",
         "marker": {
          "color": "#00cc96",
          "symbol": "circle"
         },
         "mode": "markers",
         "name": "ID",
         "orientation": "h",
         "showlegend": true,
         "type": "scatter",
         "x": [
          13
         ],
         "xaxis": "x",
         "y": [
          "Idaho"
         ],
         "yaxis": "y"
        },
        {
         "customdata": [
          [
           12880580
          ]
         ],
         "hovertemplate": "Postal=IL<br>Rank=%{x}<br>State=%{y}<br>Population=%{customdata[0]}<extra></extra>",
         "legendgroup": "IL",
         "marker": {
          "color": "#ab63fa",
          "symbol": "circle"
         },
         "mode": "markers",
         "name": "IL",
         "orientation": "h",
         "showlegend": true,
         "type": "scatter",
         "x": [
          14
         ],
         "xaxis": "x",
         "y": [
          "Illinois"
         ],
         "yaxis": "y"
        },
        {
         "customdata": [
          [
           6596855
          ]
         ],
         "hovertemplate": "Postal=IN<br>Rank=%{x}<br>State=%{y}<br>Population=%{customdata[0]}<extra></extra>",
         "legendgroup": "IN",
         "marker": {
          "color": "#FFA15A",
          "symbol": "circle"
         },
         "mode": "markers",
         "name": "IN",
         "orientation": "h",
         "showlegend": true,
         "type": "scatter",
         "x": [
          15
         ],
         "xaxis": "x",
         "y": [
          "Indiana"
         ],
         "yaxis": "y"
        },
        {
         "customdata": [
          [
           3107126
          ]
         ],
         "hovertemplate": "Postal=IA<br>Rank=%{x}<br>State=%{y}<br>Population=%{customdata[0]}<extra></extra>",
         "legendgroup": "IA",
         "marker": {
          "color": "#19d3f3",
          "symbol": "circle"
         },
         "mode": "markers",
         "name": "IA",
         "orientation": "h",
         "showlegend": true,
         "type": "scatter",
         "x": [
          16
         ],
         "xaxis": "x",
         "y": [
          "Iowa"
         ],
         "yaxis": "y"
        },
        {
         "customdata": [
          [
           2904021
          ]
         ],
         "hovertemplate": "Postal=KS<br>Rank=%{x}<br>State=%{y}<br>Population=%{customdata[0]}<extra></extra>",
         "legendgroup": "KS",
         "marker": {
          "color": "#FF6692",
          "symbol": "circle"
         },
         "mode": "markers",
         "name": "KS",
         "orientation": "h",
         "showlegend": true,
         "type": "scatter",
         "x": [
          17
         ],
         "xaxis": "x",
         "y": [
          "Kansas"
         ],
         "yaxis": "y"
        },
        {
         "customdata": [
          [
           4413457
          ]
         ],
         "hovertemplate": "Postal=KY<br>Rank=%{x}<br>State=%{y}<br>Population=%{customdata[0]}<extra></extra>",
         "legendgroup": "KY",
         "marker": {
          "color": "#B6E880",
          "symbol": "circle"
         },
         "mode": "markers",
         "name": "KY",
         "orientation": "h",
         "showlegend": true,
         "type": "scatter",
         "x": [
          18
         ],
         "xaxis": "x",
         "y": [
          "Kentucky"
         ],
         "yaxis": "y"
        },
        {
         "customdata": [
          [
           4649676
          ]
         ],
         "hovertemplate": "Postal=LA<br>Rank=%{x}<br>State=%{y}<br>Population=%{customdata[0]}<extra></extra>",
         "legendgroup": "LA",
         "marker": {
          "color": "#FF97FF",
          "symbol": "circle"
         },
         "mode": "markers",
         "name": "LA",
         "orientation": "h",
         "showlegend": true,
         "type": "scatter",
         "x": [
          19
         ],
         "xaxis": "x",
         "y": [
          "Louisiana"
         ],
         "yaxis": "y"
        },
        {
         "customdata": [
          [
           1330089
          ]
         ],
         "hovertemplate": "Postal=ME<br>Rank=%{x}<br>State=%{y}<br>Population=%{customdata[0]}<extra></extra>",
         "legendgroup": "ME",
         "marker": {
          "color": "#FECB52",
          "symbol": "circle"
         },
         "mode": "markers",
         "name": "ME",
         "orientation": "h",
         "showlegend": true,
         "type": "scatter",
         "x": [
          20
         ],
         "xaxis": "x",
         "y": [
          "Maine"
         ],
         "yaxis": "y"
        },
        {
         "customdata": [
          [
           5976407
          ]
         ],
         "hovertemplate": "Postal=MD<br>Rank=%{x}<br>State=%{y}<br>Population=%{customdata[0]}<extra></extra>",
         "legendgroup": "MD",
         "marker": {
          "color": "#636efa",
          "symbol": "circle"
         },
         "mode": "markers",
         "name": "MD",
         "orientation": "h",
         "showlegend": true,
         "type": "scatter",
         "x": [
          21
         ],
         "xaxis": "x",
         "y": [
          "Maryland"
         ],
         "yaxis": "y"
        },
        {
         "customdata": [
          [
           6745408
          ]
         ],
         "hovertemplate": "Postal=MA<br>Rank=%{x}<br>State=%{y}<br>Population=%{customdata[0]}<extra></extra>",
         "legendgroup": "MA",
         "marker": {
          "color": "#EF553B",
          "symbol": "circle"
         },
         "mode": "markers",
         "name": "MA",
         "orientation": "h",
         "showlegend": true,
         "type": "scatter",
         "x": [
          22
         ],
         "xaxis": "x",
         "y": [
          "Massachusetts"
         ],
         "yaxis": "y"
        },
        {
         "customdata": [
          [
           9909877
          ]
         ],
         "hovertemplate": "Postal=MI<br>Rank=%{x}<br>State=%{y}<br>Population=%{customdata[0]}<extra></extra>",
         "legendgroup": "MI",
         "marker": {
          "color": "#00cc96",
          "symbol": "circle"
         },
         "mode": "markers",
         "name": "MI",
         "orientation": "h",
         "showlegend": true,
         "type": "scatter",
         "x": [
          23
         ],
         "xaxis": "x",
         "y": [
          "Michigan"
         ],
         "yaxis": "y"
        },
        {
         "customdata": [
          [
           5457173
          ]
         ],
         "hovertemplate": "Postal=MN<br>Rank=%{x}<br>State=%{y}<br>Population=%{customdata[0]}<extra></extra>",
         "legendgroup": "MN",
         "marker": {
          "color": "#ab63fa",
          "symbol": "circle"
         },
         "mode": "markers",
         "name": "MN",
         "orientation": "h",
         "showlegend": true,
         "type": "scatter",
         "x": [
          24
         ],
         "xaxis": "x",
         "y": [
          "Minnesota"
         ],
         "yaxis": "y"
        },
        {
         "customdata": [
          [
           2994079
          ]
         ],
         "hovertemplate": "Postal=MS<br>Rank=%{x}<br>State=%{y}<br>Population=%{customdata[0]}<extra></extra>",
         "legendgroup": "MS",
         "marker": {
          "color": "#FFA15A",
          "symbol": "circle"
         },
         "mode": "markers",
         "name": "MS",
         "orientation": "h",
         "showlegend": true,
         "type": "scatter",
         "x": [
          25
         ],
         "xaxis": "x",
         "y": [
          "Mississippi"
         ],
         "yaxis": "y"
        },
        {
         "customdata": [
          [
           6063589
          ]
         ],
         "hovertemplate": "Postal=MO<br>Rank=%{x}<br>State=%{y}<br>Population=%{customdata[0]}<extra></extra>",
         "legendgroup": "MO",
         "marker": {
          "color": "#19d3f3",
          "symbol": "circle"
         },
         "mode": "markers",
         "name": "MO",
         "orientation": "h",
         "showlegend": true,
         "type": "scatter",
         "x": [
          26
         ],
         "xaxis": "x",
         "y": [
          "Missouri"
         ],
         "yaxis": "y"
        },
        {
         "customdata": [
          [
           1023579
          ]
         ],
         "hovertemplate": "Postal=MT<br>Rank=%{x}<br>State=%{y}<br>Population=%{customdata[0]}<extra></extra>",
         "legendgroup": "MT",
         "marker": {
          "color": "#FF6692",
          "symbol": "circle"
         },
         "mode": "markers",
         "name": "MT",
         "orientation": "h",
         "showlegend": true,
         "type": "scatter",
         "x": [
          27
         ],
         "xaxis": "x",
         "y": [
          "Montana"
         ],
         "yaxis": "y"
        },
        {
         "customdata": [
          [
           1881503
          ]
         ],
         "hovertemplate": "Postal=NE<br>Rank=%{x}<br>State=%{y}<br>Population=%{customdata[0]}<extra></extra>",
         "legendgroup": "NE",
         "marker": {
          "color": "#B6E880",
          "symbol": "circle"
         },
         "mode": "markers",
         "name": "NE",
         "orientation": "h",
         "showlegend": true,
         "type": "scatter",
         "x": [
          28
         ],
         "xaxis": "x",
         "y": [
          "Nebraska"
         ],
         "yaxis": "y"
        },
        {
         "customdata": [
          [
           2839098
          ]
         ],
         "hovertemplate": "Postal=NV<br>Rank=%{x}<br>State=%{y}<br>Population=%{customdata[0]}<extra></extra>",
         "legendgroup": "NV",
         "marker": {
          "color": "#FF97FF",
          "symbol": "circle"
         },
         "mode": "markers",
         "name": "NV",
         "orientation": "h",
         "showlegend": true,
         "type": "scatter",
         "x": [
          29
         ],
         "xaxis": "x",
         "y": [
          "Nevada"
         ],
         "yaxis": "y"
        },
        {
         "customdata": [
          [
           1326813
          ]
         ],
         "hovertemplate": "Postal=NH<br>Rank=%{x}<br>State=%{y}<br>Population=%{customdata[0]}<extra></extra>",
         "legendgroup": "NH",
         "marker": {
          "color": "#FECB52",
          "symbol": "circle"
         },
         "mode": "markers",
         "name": "NH",
         "orientation": "h",
         "showlegend": true,
         "type": "scatter",
         "x": [
          30
         ],
         "xaxis": "x",
         "y": [
          "New Hampshire"
         ],
         "yaxis": "y"
        },
        {
         "customdata": [
          [
           8938175
          ]
         ],
         "hovertemplate": "Postal=NJ<br>Rank=%{x}<br>State=%{y}<br>Population=%{customdata[0]}<extra></extra>",
         "legendgroup": "NJ",
         "marker": {
          "color": "#636efa",
          "symbol": "circle"
         },
         "mode": "markers",
         "name": "NJ",
         "orientation": "h",
         "showlegend": true,
         "type": "scatter",
         "x": [
          31
         ],
         "xaxis": "x",
         "y": [
          "New Jersey"
         ],
         "yaxis": "y"
        },
        {
         "customdata": [
          [
           2085572
          ]
         ],
         "hovertemplate": "Postal=NM<br>Rank=%{x}<br>State=%{y}<br>Population=%{customdata[0]}<extra></extra>",
         "legendgroup": "NM",
         "marker": {
          "color": "#EF553B",
          "symbol": "circle"
         },
         "mode": "markers",
         "name": "NM",
         "orientation": "h",
         "showlegend": true,
         "type": "scatter",
         "x": [
          32
         ],
         "xaxis": "x",
         "y": [
          "New Mexico"
         ],
         "yaxis": "y"
        },
        {
         "customdata": [
          [
           19746227
          ]
         ],
         "hovertemplate": "Postal=NY<br>Rank=%{x}<br>State=%{y}<br>Population=%{customdata[0]}<extra></extra>",
         "legendgroup": "NY",
         "marker": {
          "color": "#00cc96",
          "symbol": "circle"
         },
         "mode": "markers",
         "name": "NY",
         "orientation": "h",
         "showlegend": true,
         "type": "scatter",
         "x": [
          33
         ],
         "xaxis": "x",
         "y": [
          "New York"
         ],
         "yaxis": "y"
        },
        {
         "customdata": [
          [
           9943964
          ]
         ],
         "hovertemplate": "Postal=NC<br>Rank=%{x}<br>State=%{y}<br>Population=%{customdata[0]}<extra></extra>",
         "legendgroup": "NC",
         "marker": {
          "color": "#ab63fa",
          "symbol": "circle"
         },
         "mode": "markers",
         "name": "NC",
         "orientation": "h",
         "showlegend": true,
         "type": "scatter",
         "x": [
          34
         ],
         "xaxis": "x",
         "y": [
          "North Carolina"
         ],
         "yaxis": "y"
        },
        {
         "customdata": [
          [
           739482
          ]
         ],
         "hovertemplate": "Postal=ND<br>Rank=%{x}<br>State=%{y}<br>Population=%{customdata[0]}<extra></extra>",
         "legendgroup": "ND",
         "marker": {
          "color": "#FFA15A",
          "symbol": "circle"
         },
         "mode": "markers",
         "name": "ND",
         "orientation": "h",
         "showlegend": true,
         "type": "scatter",
         "x": [
          35
         ],
         "xaxis": "x",
         "y": [
          "North Dakota"
         ],
         "yaxis": "y"
        },
        {
         "customdata": [
          [
           11594163
          ]
         ],
         "hovertemplate": "Postal=OH<br>Rank=%{x}<br>State=%{y}<br>Population=%{customdata[0]}<extra></extra>",
         "legendgroup": "OH",
         "marker": {
          "color": "#19d3f3",
          "symbol": "circle"
         },
         "mode": "markers",
         "name": "OH",
         "orientation": "h",
         "showlegend": true,
         "type": "scatter",
         "x": [
          36
         ],
         "xaxis": "x",
         "y": [
          "Ohio"
         ],
         "yaxis": "y"
        },
        {
         "customdata": [
          [
           3878051
          ]
         ],
         "hovertemplate": "Postal=OK<br>Rank=%{x}<br>State=%{y}<br>Population=%{customdata[0]}<extra></extra>",
         "legendgroup": "OK",
         "marker": {
          "color": "#FF6692",
          "symbol": "circle"
         },
         "mode": "markers",
         "name": "OK",
         "orientation": "h",
         "showlegend": true,
         "type": "scatter",
         "x": [
          37
         ],
         "xaxis": "x",
         "y": [
          "Oklahoma"
         ],
         "yaxis": "y"
        },
        {
         "customdata": [
          [
           3970239
          ]
         ],
         "hovertemplate": "Postal=OR<br>Rank=%{x}<br>State=%{y}<br>Population=%{customdata[0]}<extra></extra>",
         "legendgroup": "OR",
         "marker": {
          "color": "#B6E880",
          "symbol": "circle"
         },
         "mode": "markers",
         "name": "OR",
         "orientation": "h",
         "showlegend": true,
         "type": "scatter",
         "x": [
          38
         ],
         "xaxis": "x",
         "y": [
          "Oregon"
         ],
         "yaxis": "y"
        },
        {
         "customdata": [
          [
           12787209
          ]
         ],
         "hovertemplate": "Postal=PA<br>Rank=%{x}<br>State=%{y}<br>Population=%{customdata[0]}<extra></extra>",
         "legendgroup": "PA",
         "marker": {
          "color": "#FF97FF",
          "symbol": "circle"
         },
         "mode": "markers",
         "name": "PA",
         "orientation": "h",
         "showlegend": true,
         "type": "scatter",
         "x": [
          39
         ],
         "xaxis": "x",
         "y": [
          "Pennsylvania"
         ],
         "yaxis": "y"
        },
        {
         "customdata": [
          [
           3548397
          ]
         ],
         "hovertemplate": "Postal=PR<br>Rank=%{x}<br>State=%{y}<br>Population=%{customdata[0]}<extra></extra>",
         "legendgroup": "PR",
         "marker": {
          "color": "#FECB52",
          "symbol": "circle"
         },
         "mode": "markers",
         "name": "PR",
         "orientation": "h",
         "showlegend": true,
         "type": "scatter",
         "x": [
          40
         ],
         "xaxis": "x",
         "y": [
          "Puerto Rico"
         ],
         "yaxis": "y"
        },
        {
         "customdata": [
          [
           1055173
          ]
         ],
         "hovertemplate": "Postal=RI<br>Rank=%{x}<br>State=%{y}<br>Population=%{customdata[0]}<extra></extra>",
         "legendgroup": "RI",
         "marker": {
          "color": "#636efa",
          "symbol": "circle"
         },
         "mode": "markers",
         "name": "RI",
         "orientation": "h",
         "showlegend": true,
         "type": "scatter",
         "x": [
          41
         ],
         "xaxis": "x",
         "y": [
          "Rhode Island"
         ],
         "yaxis": "y"
        },
        {
         "customdata": [
          [
           4832482
          ]
         ],
         "hovertemplate": "Postal=SC<br>Rank=%{x}<br>State=%{y}<br>Population=%{customdata[0]}<extra></extra>",
         "legendgroup": "SC",
         "marker": {
          "color": "#EF553B",
          "symbol": "circle"
         },
         "mode": "markers",
         "name": "SC",
         "orientation": "h",
         "showlegend": true,
         "type": "scatter",
         "x": [
          42
         ],
         "xaxis": "x",
         "y": [
          "South Carolina"
         ],
         "yaxis": "y"
        },
        {
         "customdata": [
          [
           853175
          ]
         ],
         "hovertemplate": "Postal=SD<br>Rank=%{x}<br>State=%{y}<br>Population=%{customdata[0]}<extra></extra>",
         "legendgroup": "SD",
         "marker": {
          "color": "#00cc96",
          "symbol": "circle"
         },
         "mode": "markers",
         "name": "SD",
         "orientation": "h",
         "showlegend": true,
         "type": "scatter",
         "x": [
          43
         ],
         "xaxis": "x",
         "y": [
          "South Dakota"
         ],
         "yaxis": "y"
        },
        {
         "customdata": [
          [
           6549352
          ]
         ],
         "hovertemplate": "Postal=TN<br>Rank=%{x}<br>State=%{y}<br>Population=%{customdata[0]}<extra></extra>",
         "legendgroup": "TN",
         "marker": {
          "color": "#ab63fa",
          "symbol": "circle"
         },
         "mode": "markers",
         "name": "TN",
         "orientation": "h",
         "showlegend": true,
         "type": "scatter",
         "x": [
          44
         ],
         "xaxis": "x",
         "y": [
          "Tennessee"
         ],
         "yaxis": "y"
        },
        {
         "customdata": [
          [
           26956958
          ]
         ],
         "hovertemplate": "Postal=TX<br>Rank=%{x}<br>State=%{y}<br>Population=%{customdata[0]}<extra></extra>",
         "legendgroup": "TX",
         "marker": {
          "color": "#FFA15A",
          "symbol": "circle"
         },
         "mode": "markers",
         "name": "TX",
         "orientation": "h",
         "showlegend": true,
         "type": "scatter",
         "x": [
          45
         ],
         "xaxis": "x",
         "y": [
          "Texas"
         ],
         "yaxis": "y"
        },
        {
         "customdata": [
          [
           2942902
          ]
         ],
         "hovertemplate": "Postal=UT<br>Rank=%{x}<br>State=%{y}<br>Population=%{customdata[0]}<extra></extra>",
         "legendgroup": "UT",
         "marker": {
          "color": "#19d3f3",
          "symbol": "circle"
         },
         "mode": "markers",
         "name": "UT",
         "orientation": "h",
         "showlegend": true,
         "type": "scatter",
         "x": [
          46
         ],
         "xaxis": "x",
         "y": [
          "Utah"
         ],
         "yaxis": "y"
        },
        {
         "customdata": [
          [
           626562
          ]
         ],
         "hovertemplate": "Postal=VT<br>Rank=%{x}<br>State=%{y}<br>Population=%{customdata[0]}<extra></extra>",
         "legendgroup": "VT",
         "marker": {
          "color": "#FF6692",
          "symbol": "circle"
         },
         "mode": "markers",
         "name": "VT",
         "orientation": "h",
         "showlegend": true,
         "type": "scatter",
         "x": [
          47
         ],
         "xaxis": "x",
         "y": [
          "Vermont"
         ],
         "yaxis": "y"
        },
        {
         "customdata": [
          [
           8326289
          ]
         ],
         "hovertemplate": "Postal=VA<br>Rank=%{x}<br>State=%{y}<br>Population=%{customdata[0]}<extra></extra>",
         "legendgroup": "VA",
         "marker": {
          "color": "#B6E880",
          "symbol": "circle"
         },
         "mode": "markers",
         "name": "VA",
         "orientation": "h",
         "showlegend": true,
         "type": "scatter",
         "x": [
          48
         ],
         "xaxis": "x",
         "y": [
          "Virginia"
         ],
         "yaxis": "y"
        },
        {
         "customdata": [
          [
           7061530
          ]
         ],
         "hovertemplate": "Postal=WA<br>Rank=%{x}<br>State=%{y}<br>Population=%{customdata[0]}<extra></extra>",
         "legendgroup": "WA",
         "marker": {
          "color": "#FF97FF",
          "symbol": "circle"
         },
         "mode": "markers",
         "name": "WA",
         "orientation": "h",
         "showlegend": true,
         "type": "scatter",
         "x": [
          49
         ],
         "xaxis": "x",
         "y": [
          "Washington"
         ],
         "yaxis": "y"
        },
        {
         "customdata": [
          [
           1850326
          ]
         ],
         "hovertemplate": "Postal=WV<br>Rank=%{x}<br>State=%{y}<br>Population=%{customdata[0]}<extra></extra>",
         "legendgroup": "WV",
         "marker": {
          "color": "#FECB52",
          "symbol": "circle"
         },
         "mode": "markers",
         "name": "WV",
         "orientation": "h",
         "showlegend": true,
         "type": "scatter",
         "x": [
          50
         ],
         "xaxis": "x",
         "y": [
          "West Virginia"
         ],
         "yaxis": "y"
        },
        {
         "customdata": [
          [
           5757564
          ]
         ],
         "hovertemplate": "Postal=WI<br>Rank=%{x}<br>State=%{y}<br>Population=%{customdata[0]}<extra></extra>",
         "legendgroup": "WI",
         "marker": {
          "color": "#636efa",
          "symbol": "circle"
         },
         "mode": "markers",
         "name": "WI",
         "orientation": "h",
         "showlegend": true,
         "type": "scatter",
         "x": [
          51
         ],
         "xaxis": "x",
         "y": [
          "Wisconsin"
         ],
         "yaxis": "y"
        },
        {
         "customdata": [
          [
           584153
          ]
         ],
         "hovertemplate": "Postal=WY<br>Rank=%{x}<br>State=%{y}<br>Population=%{customdata[0]}<extra></extra>",
         "legendgroup": "WY",
         "marker": {
          "color": "#EF553B",
          "symbol": "circle"
         },
         "mode": "markers",
         "name": "WY",
         "orientation": "h",
         "showlegend": true,
         "type": "scatter",
         "x": [
          52
         ],
         "xaxis": "x",
         "y": [
          "Wyoming"
         ],
         "yaxis": "y"
        }
       ],
       "layout": {
        "legend": {
         "title": {
          "text": "Postal"
         },
         "tracegroupgap": 0
        },
        "margin": {
         "t": 60
        },
        "template": {
         "data": {
          "bar": [
           {
            "error_x": {
             "color": "#2a3f5f"
            },
            "error_y": {
             "color": "#2a3f5f"
            },
            "marker": {
             "line": {
              "color": "#E5ECF6",
              "width": 0.5
             },
             "pattern": {
              "fillmode": "overlay",
              "size": 10,
              "solidity": 0.2
             }
            },
            "type": "bar"
           }
          ],
          "barpolar": [
           {
            "marker": {
             "line": {
              "color": "#E5ECF6",
              "width": 0.5
             },
             "pattern": {
              "fillmode": "overlay",
              "size": 10,
              "solidity": 0.2
             }
            },
            "type": "barpolar"
           }
          ],
          "carpet": [
           {
            "aaxis": {
             "endlinecolor": "#2a3f5f",
             "gridcolor": "white",
             "linecolor": "white",
             "minorgridcolor": "white",
             "startlinecolor": "#2a3f5f"
            },
            "baxis": {
             "endlinecolor": "#2a3f5f",
             "gridcolor": "white",
             "linecolor": "white",
             "minorgridcolor": "white",
             "startlinecolor": "#2a3f5f"
            },
            "type": "carpet"
           }
          ],
          "choropleth": [
           {
            "colorbar": {
             "outlinewidth": 0,
             "ticks": ""
            },
            "type": "choropleth"
           }
          ],
          "contour": [
           {
            "colorbar": {
             "outlinewidth": 0,
             "ticks": ""
            },
            "colorscale": [
             [
              0,
              "#0d0887"
             ],
             [
              0.1111111111111111,
              "#46039f"
             ],
             [
              0.2222222222222222,
              "#7201a8"
             ],
             [
              0.3333333333333333,
              "#9c179e"
             ],
             [
              0.4444444444444444,
              "#bd3786"
             ],
             [
              0.5555555555555556,
              "#d8576b"
             ],
             [
              0.6666666666666666,
              "#ed7953"
             ],
             [
              0.7777777777777778,
              "#fb9f3a"
             ],
             [
              0.8888888888888888,
              "#fdca26"
             ],
             [
              1,
              "#f0f921"
             ]
            ],
            "type": "contour"
           }
          ],
          "contourcarpet": [
           {
            "colorbar": {
             "outlinewidth": 0,
             "ticks": ""
            },
            "type": "contourcarpet"
           }
          ],
          "heatmap": [
           {
            "colorbar": {
             "outlinewidth": 0,
             "ticks": ""
            },
            "colorscale": [
             [
              0,
              "#0d0887"
             ],
             [
              0.1111111111111111,
              "#46039f"
             ],
             [
              0.2222222222222222,
              "#7201a8"
             ],
             [
              0.3333333333333333,
              "#9c179e"
             ],
             [
              0.4444444444444444,
              "#bd3786"
             ],
             [
              0.5555555555555556,
              "#d8576b"
             ],
             [
              0.6666666666666666,
              "#ed7953"
             ],
             [
              0.7777777777777778,
              "#fb9f3a"
             ],
             [
              0.8888888888888888,
              "#fdca26"
             ],
             [
              1,
              "#f0f921"
             ]
            ],
            "type": "heatmap"
           }
          ],
          "heatmapgl": [
           {
            "colorbar": {
             "outlinewidth": 0,
             "ticks": ""
            },
            "colorscale": [
             [
              0,
              "#0d0887"
             ],
             [
              0.1111111111111111,
              "#46039f"
             ],
             [
              0.2222222222222222,
              "#7201a8"
             ],
             [
              0.3333333333333333,
              "#9c179e"
             ],
             [
              0.4444444444444444,
              "#bd3786"
             ],
             [
              0.5555555555555556,
              "#d8576b"
             ],
             [
              0.6666666666666666,
              "#ed7953"
             ],
             [
              0.7777777777777778,
              "#fb9f3a"
             ],
             [
              0.8888888888888888,
              "#fdca26"
             ],
             [
              1,
              "#f0f921"
             ]
            ],
            "type": "heatmapgl"
           }
          ],
          "histogram": [
           {
            "marker": {
             "pattern": {
              "fillmode": "overlay",
              "size": 10,
              "solidity": 0.2
             }
            },
            "type": "histogram"
           }
          ],
          "histogram2d": [
           {
            "colorbar": {
             "outlinewidth": 0,
             "ticks": ""
            },
            "colorscale": [
             [
              0,
              "#0d0887"
             ],
             [
              0.1111111111111111,
              "#46039f"
             ],
             [
              0.2222222222222222,
              "#7201a8"
             ],
             [
              0.3333333333333333,
              "#9c179e"
             ],
             [
              0.4444444444444444,
              "#bd3786"
             ],
             [
              0.5555555555555556,
              "#d8576b"
             ],
             [
              0.6666666666666666,
              "#ed7953"
             ],
             [
              0.7777777777777778,
              "#fb9f3a"
             ],
             [
              0.8888888888888888,
              "#fdca26"
             ],
             [
              1,
              "#f0f921"
             ]
            ],
            "type": "histogram2d"
           }
          ],
          "histogram2dcontour": [
           {
            "colorbar": {
             "outlinewidth": 0,
             "ticks": ""
            },
            "colorscale": [
             [
              0,
              "#0d0887"
             ],
             [
              0.1111111111111111,
              "#46039f"
             ],
             [
              0.2222222222222222,
              "#7201a8"
             ],
             [
              0.3333333333333333,
              "#9c179e"
             ],
             [
              0.4444444444444444,
              "#bd3786"
             ],
             [
              0.5555555555555556,
              "#d8576b"
             ],
             [
              0.6666666666666666,
              "#ed7953"
             ],
             [
              0.7777777777777778,
              "#fb9f3a"
             ],
             [
              0.8888888888888888,
              "#fdca26"
             ],
             [
              1,
              "#f0f921"
             ]
            ],
            "type": "histogram2dcontour"
           }
          ],
          "mesh3d": [
           {
            "colorbar": {
             "outlinewidth": 0,
             "ticks": ""
            },
            "type": "mesh3d"
           }
          ],
          "parcoords": [
           {
            "line": {
             "colorbar": {
              "outlinewidth": 0,
              "ticks": ""
             }
            },
            "type": "parcoords"
           }
          ],
          "pie": [
           {
            "automargin": true,
            "type": "pie"
           }
          ],
          "scatter": [
           {
            "marker": {
             "colorbar": {
              "outlinewidth": 0,
              "ticks": ""
             }
            },
            "type": "scatter"
           }
          ],
          "scatter3d": [
           {
            "line": {
             "colorbar": {
              "outlinewidth": 0,
              "ticks": ""
             }
            },
            "marker": {
             "colorbar": {
              "outlinewidth": 0,
              "ticks": ""
             }
            },
            "type": "scatter3d"
           }
          ],
          "scattercarpet": [
           {
            "marker": {
             "colorbar": {
              "outlinewidth": 0,
              "ticks": ""
             }
            },
            "type": "scattercarpet"
           }
          ],
          "scattergeo": [
           {
            "marker": {
             "colorbar": {
              "outlinewidth": 0,
              "ticks": ""
             }
            },
            "type": "scattergeo"
           }
          ],
          "scattergl": [
           {
            "marker": {
             "colorbar": {
              "outlinewidth": 0,
              "ticks": ""
             }
            },
            "type": "scattergl"
           }
          ],
          "scattermapbox": [
           {
            "marker": {
             "colorbar": {
              "outlinewidth": 0,
              "ticks": ""
             }
            },
            "type": "scattermapbox"
           }
          ],
          "scatterpolar": [
           {
            "marker": {
             "colorbar": {
              "outlinewidth": 0,
              "ticks": ""
             }
            },
            "type": "scatterpolar"
           }
          ],
          "scatterpolargl": [
           {
            "marker": {
             "colorbar": {
              "outlinewidth": 0,
              "ticks": ""
             }
            },
            "type": "scatterpolargl"
           }
          ],
          "scatterternary": [
           {
            "marker": {
             "colorbar": {
              "outlinewidth": 0,
              "ticks": ""
             }
            },
            "type": "scatterternary"
           }
          ],
          "surface": [
           {
            "colorbar": {
             "outlinewidth": 0,
             "ticks": ""
            },
            "colorscale": [
             [
              0,
              "#0d0887"
             ],
             [
              0.1111111111111111,
              "#46039f"
             ],
             [
              0.2222222222222222,
              "#7201a8"
             ],
             [
              0.3333333333333333,
              "#9c179e"
             ],
             [
              0.4444444444444444,
              "#bd3786"
             ],
             [
              0.5555555555555556,
              "#d8576b"
             ],
             [
              0.6666666666666666,
              "#ed7953"
             ],
             [
              0.7777777777777778,
              "#fb9f3a"
             ],
             [
              0.8888888888888888,
              "#fdca26"
             ],
             [
              1,
              "#f0f921"
             ]
            ],
            "type": "surface"
           }
          ],
          "table": [
           {
            "cells": {
             "fill": {
              "color": "#EBF0F8"
             },
             "line": {
              "color": "white"
             }
            },
            "header": {
             "fill": {
              "color": "#C8D4E3"
             },
             "line": {
              "color": "white"
             }
            },
            "type": "table"
           }
          ]
         },
         "layout": {
          "annotationdefaults": {
           "arrowcolor": "#2a3f5f",
           "arrowhead": 0,
           "arrowwidth": 1
          },
          "autotypenumbers": "strict",
          "coloraxis": {
           "colorbar": {
            "outlinewidth": 0,
            "ticks": ""
           }
          },
          "colorscale": {
           "diverging": [
            [
             0,
             "#8e0152"
            ],
            [
             0.1,
             "#c51b7d"
            ],
            [
             0.2,
             "#de77ae"
            ],
            [
             0.3,
             "#f1b6da"
            ],
            [
             0.4,
             "#fde0ef"
            ],
            [
             0.5,
             "#f7f7f7"
            ],
            [
             0.6,
             "#e6f5d0"
            ],
            [
             0.7,
             "#b8e186"
            ],
            [
             0.8,
             "#7fbc41"
            ],
            [
             0.9,
             "#4d9221"
            ],
            [
             1,
             "#276419"
            ]
           ],
           "sequential": [
            [
             0,
             "#0d0887"
            ],
            [
             0.1111111111111111,
             "#46039f"
            ],
            [
             0.2222222222222222,
             "#7201a8"
            ],
            [
             0.3333333333333333,
             "#9c179e"
            ],
            [
             0.4444444444444444,
             "#bd3786"
            ],
            [
             0.5555555555555556,
             "#d8576b"
            ],
            [
             0.6666666666666666,
             "#ed7953"
            ],
            [
             0.7777777777777778,
             "#fb9f3a"
            ],
            [
             0.8888888888888888,
             "#fdca26"
            ],
            [
             1,
             "#f0f921"
            ]
           ],
           "sequentialminus": [
            [
             0,
             "#0d0887"
            ],
            [
             0.1111111111111111,
             "#46039f"
            ],
            [
             0.2222222222222222,
             "#7201a8"
            ],
            [
             0.3333333333333333,
             "#9c179e"
            ],
            [
             0.4444444444444444,
             "#bd3786"
            ],
            [
             0.5555555555555556,
             "#d8576b"
            ],
            [
             0.6666666666666666,
             "#ed7953"
            ],
            [
             0.7777777777777778,
             "#fb9f3a"
            ],
            [
             0.8888888888888888,
             "#fdca26"
            ],
            [
             1,
             "#f0f921"
            ]
           ]
          },
          "colorway": [
           "#636efa",
           "#EF553B",
           "#00cc96",
           "#ab63fa",
           "#FFA15A",
           "#19d3f3",
           "#FF6692",
           "#B6E880",
           "#FF97FF",
           "#FECB52"
          ],
          "font": {
           "color": "#2a3f5f"
          },
          "geo": {
           "bgcolor": "white",
           "lakecolor": "white",
           "landcolor": "#E5ECF6",
           "showlakes": true,
           "showland": true,
           "subunitcolor": "white"
          },
          "hoverlabel": {
           "align": "left"
          },
          "hovermode": "closest",
          "mapbox": {
           "style": "light"
          },
          "paper_bgcolor": "white",
          "plot_bgcolor": "#E5ECF6",
          "polar": {
           "angularaxis": {
            "gridcolor": "white",
            "linecolor": "white",
            "ticks": ""
           },
           "bgcolor": "#E5ECF6",
           "radialaxis": {
            "gridcolor": "white",
            "linecolor": "white",
            "ticks": ""
           }
          },
          "scene": {
           "xaxis": {
            "backgroundcolor": "#E5ECF6",
            "gridcolor": "white",
            "gridwidth": 2,
            "linecolor": "white",
            "showbackground": true,
            "ticks": "",
            "zerolinecolor": "white"
           },
           "yaxis": {
            "backgroundcolor": "#E5ECF6",
            "gridcolor": "white",
            "gridwidth": 2,
            "linecolor": "white",
            "showbackground": true,
            "ticks": "",
            "zerolinecolor": "white"
           },
           "zaxis": {
            "backgroundcolor": "#E5ECF6",
            "gridcolor": "white",
            "gridwidth": 2,
            "linecolor": "white",
            "showbackground": true,
            "ticks": "",
            "zerolinecolor": "white"
           }
          },
          "shapedefaults": {
           "line": {
            "color": "#2a3f5f"
           }
          },
          "ternary": {
           "aaxis": {
            "gridcolor": "white",
            "linecolor": "white",
            "ticks": ""
           },
           "baxis": {
            "gridcolor": "white",
            "linecolor": "white",
            "ticks": ""
           },
           "bgcolor": "#E5ECF6",
           "caxis": {
            "gridcolor": "white",
            "linecolor": "white",
            "ticks": ""
           }
          },
          "title": {
           "x": 0.05
          },
          "xaxis": {
           "automargin": true,
           "gridcolor": "white",
           "linecolor": "white",
           "ticks": "",
           "title": {
            "standoff": 15
           },
           "zerolinecolor": "white",
           "zerolinewidth": 2
          },
          "yaxis": {
           "automargin": true,
           "gridcolor": "white",
           "linecolor": "white",
           "ticks": "",
           "title": {
            "standoff": 15
           },
           "zerolinecolor": "white",
           "zerolinewidth": 2
          }
         }
        },
        "xaxis": {
         "anchor": "y",
         "domain": [
          0,
          1
         ],
         "title": {
          "text": "Rank"
         }
        },
        "yaxis": {
         "anchor": "x",
         "domain": [
          0,
          1
         ],
         "title": {
          "text": "State"
         }
        }
       }
      }
     },
     "metadata": {}
    }
   ],
   "metadata": {}
  }
 ],
 "metadata": {
  "orig_nbformat": 4,
  "language_info": {
   "name": "python",
   "version": "3.8.10",
   "mimetype": "text/x-python",
   "codemirror_mode": {
    "name": "ipython",
    "version": 3
   },
   "pygments_lexer": "ipython3",
   "nbconvert_exporter": "python",
   "file_extension": ".py"
  },
  "kernelspec": {
   "name": "python3",
   "display_name": "Python 3.8.10 64-bit"
  },
  "interpreter": {
   "hash": "916dbcbb3f70747c44a77c7bcd40155683ae19c65e1c03b4aa3499c5328201f1"
  }
 },
 "nbformat": 4,
 "nbformat_minor": 2
}