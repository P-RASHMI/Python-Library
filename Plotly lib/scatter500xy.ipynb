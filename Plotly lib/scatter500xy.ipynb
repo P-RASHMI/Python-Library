{
 "cells": [
  {
   "cell_type": "code",
   "execution_count": 2,
   "source": [
    "'''\n",
    "@Author: Rashmi\n",
    "@Date: 2021-10-9 13:33\n",
    "@Last Modified by: Rashmi\n",
    "@Last Modified time: 2021-10-9 13:45\n",
    "@Title :Write a program to draw a scatter plot for random 500 x and y coordinates and style it'''\n",
    "\n",
    "import numpy as np\n",
    "import plotly.express as px\n",
    "import pandas as pd\n",
    "\n",
    "x_value = np.random.randn(100) \n",
    "y_value = np.random.randn(100)\n",
    "fig = px.scatter(x_value,y_value,symbol=x_value,color=x_value)\n",
    "fig.show()"
   ],
   "outputs": [
    {
     "output_type": "display_data",
     "data": {
      "application/vnd.plotly.v1+json": {
       "config": {
        "plotlyServerURL": "https://plot.ly"
       },
       "data": [
        {
         "hovertemplate": "symbol=-0.6390941219724131<br>x=%{x}<br>index=%{y}<br>color=%{marker.color}<extra></extra>",
         "legendgroup": "-0.6390941219724131",
         "marker": {
          "color": [
           -0.6390941219724131
          ],
          "coloraxis": "coloraxis",
          "symbol": "circle"
         },
         "mode": "markers",
         "name": "-0.6390941219724131",
         "orientation": "h",
         "showlegend": true,
         "type": "scatter",
         "x": [
          -0.16063014340564177
         ],
         "xaxis": "x",
         "y": [
          0
         ],
         "yaxis": "y"
        },
        {
         "hovertemplate": "symbol=-0.08620935158667638<br>x=%{x}<br>index=%{y}<br>color=%{marker.color}<extra></extra>",
         "legendgroup": "-0.08620935158667638",
         "marker": {
          "color": [
           -0.08620935158667638
          ],
          "coloraxis": "coloraxis",
          "symbol": "diamond"
         },
         "mode": "markers",
         "name": "-0.08620935158667638",
         "orientation": "h",
         "showlegend": true,
         "type": "scatter",
         "x": [
          -0.3875587103821688
         ],
         "xaxis": "x",
         "y": [
          1
         ],
         "yaxis": "y"
        },
        {
         "hovertemplate": "symbol=-0.39991829280330154<br>x=%{x}<br>index=%{y}<br>color=%{marker.color}<extra></extra>",
         "legendgroup": "-0.39991829280330154",
         "marker": {
          "color": [
           -0.39991829280330154
          ],
          "coloraxis": "coloraxis",
          "symbol": "square"
         },
         "mode": "markers",
         "name": "-0.39991829280330154",
         "orientation": "h",
         "showlegend": true,
         "type": "scatter",
         "x": [
          0.6508174741873451
         ],
         "xaxis": "x",
         "y": [
          2
         ],
         "yaxis": "y"
        },
        {
         "hovertemplate": "symbol=-0.02797445412405832<br>x=%{x}<br>index=%{y}<br>color=%{marker.color}<extra></extra>",
         "legendgroup": "-0.02797445412405832",
         "marker": {
          "color": [
           -0.02797445412405832
          ],
          "coloraxis": "coloraxis",
          "symbol": "x"
         },
         "mode": "markers",
         "name": "-0.02797445412405832",
         "orientation": "h",
         "showlegend": true,
         "type": "scatter",
         "x": [
          -0.5738509134300507
         ],
         "xaxis": "x",
         "y": [
          3
         ],
         "yaxis": "y"
        },
        {
         "hovertemplate": "symbol=3.045276420901018<br>x=%{x}<br>index=%{y}<br>color=%{marker.color}<extra></extra>",
         "legendgroup": "3.045276420901018",
         "marker": {
          "color": [
           3.045276420901018
          ],
          "coloraxis": "coloraxis",
          "symbol": "cross"
         },
         "mode": "markers",
         "name": "3.045276420901018",
         "orientation": "h",
         "showlegend": true,
         "type": "scatter",
         "x": [
          -0.3996226367129581
         ],
         "xaxis": "x",
         "y": [
          4
         ],
         "yaxis": "y"
        },
        {
         "hovertemplate": "symbol=-1.4253699919135538<br>x=%{x}<br>index=%{y}<br>color=%{marker.color}<extra></extra>",
         "legendgroup": "-1.4253699919135538",
         "marker": {
          "color": [
           -1.4253699919135538
          ],
          "coloraxis": "coloraxis",
          "symbol": "circle"
         },
         "mode": "markers",
         "name": "-1.4253699919135538",
         "orientation": "h",
         "showlegend": true,
         "type": "scatter",
         "x": [
          0.6370061555660956
         ],
         "xaxis": "x",
         "y": [
          5
         ],
         "yaxis": "y"
        },
        {
         "hovertemplate": "symbol=0.5909054004430779<br>x=%{x}<br>index=%{y}<br>color=%{marker.color}<extra></extra>",
         "legendgroup": "0.5909054004430779",
         "marker": {
          "color": [
           0.5909054004430779
          ],
          "coloraxis": "coloraxis",
          "symbol": "diamond"
         },
         "mode": "markers",
         "name": "0.5909054004430779",
         "orientation": "h",
         "showlegend": true,
         "type": "scatter",
         "x": [
          -0.9804379626455166
         ],
         "xaxis": "x",
         "y": [
          6
         ],
         "yaxis": "y"
        },
        {
         "hovertemplate": "symbol=1.3766694823168502<br>x=%{x}<br>index=%{y}<br>color=%{marker.color}<extra></extra>",
         "legendgroup": "1.3766694823168502",
         "marker": {
          "color": [
           1.3766694823168502
          ],
          "coloraxis": "coloraxis",
          "symbol": "square"
         },
         "mode": "markers",
         "name": "1.3766694823168502",
         "orientation": "h",
         "showlegend": true,
         "type": "scatter",
         "x": [
          -1.6345055825445347
         ],
         "xaxis": "x",
         "y": [
          7
         ],
         "yaxis": "y"
        },
        {
         "hovertemplate": "symbol=-0.01908120693477194<br>x=%{x}<br>index=%{y}<br>color=%{marker.color}<extra></extra>",
         "legendgroup": "-0.01908120693477194",
         "marker": {
          "color": [
           -0.01908120693477194
          ],
          "coloraxis": "coloraxis",
          "symbol": "x"
         },
         "mode": "markers",
         "name": "-0.01908120693477194",
         "orientation": "h",
         "showlegend": true,
         "type": "scatter",
         "x": [
          0.07703879183066215
         ],
         "xaxis": "x",
         "y": [
          8
         ],
         "yaxis": "y"
        },
        {
         "hovertemplate": "symbol=-0.5081754482789199<br>x=%{x}<br>index=%{y}<br>color=%{marker.color}<extra></extra>",
         "legendgroup": "-0.5081754482789199",
         "marker": {
          "color": [
           -0.5081754482789199
          ],
          "coloraxis": "coloraxis",
          "symbol": "cross"
         },
         "mode": "markers",
         "name": "-0.5081754482789199",
         "orientation": "h",
         "showlegend": true,
         "type": "scatter",
         "x": [
          0.289386749216334
         ],
         "xaxis": "x",
         "y": [
          9
         ],
         "yaxis": "y"
        },
        {
         "hovertemplate": "symbol=-0.8990692329454075<br>x=%{x}<br>index=%{y}<br>color=%{marker.color}<extra></extra>",
         "legendgroup": "-0.8990692329454075",
         "marker": {
          "color": [
           -0.8990692329454075
          ],
          "coloraxis": "coloraxis",
          "symbol": "circle"
         },
         "mode": "markers",
         "name": "-0.8990692329454075",
         "orientation": "h",
         "showlegend": true,
         "type": "scatter",
         "x": [
          1.1179616113185453
         ],
         "xaxis": "x",
         "y": [
          10
         ],
         "yaxis": "y"
        },
        {
         "hovertemplate": "symbol=0.3987676520799844<br>x=%{x}<br>index=%{y}<br>color=%{marker.color}<extra></extra>",
         "legendgroup": "0.3987676520799844",
         "marker": {
          "color": [
           0.3987676520799844
          ],
          "coloraxis": "coloraxis",
          "symbol": "diamond"
         },
         "mode": "markers",
         "name": "0.3987676520799844",
         "orientation": "h",
         "showlegend": true,
         "type": "scatter",
         "x": [
          -0.4311807602567586
         ],
         "xaxis": "x",
         "y": [
          11
         ],
         "yaxis": "y"
        },
        {
         "hovertemplate": "symbol=0.4536779692527054<br>x=%{x}<br>index=%{y}<br>color=%{marker.color}<extra></extra>",
         "legendgroup": "0.4536779692527054",
         "marker": {
          "color": [
           0.4536779692527054
          ],
          "coloraxis": "coloraxis",
          "symbol": "square"
         },
         "mode": "markers",
         "name": "0.4536779692527054",
         "orientation": "h",
         "showlegend": true,
         "type": "scatter",
         "x": [
          -0.8354311897478113
         ],
         "xaxis": "x",
         "y": [
          12
         ],
         "yaxis": "y"
        },
        {
         "hovertemplate": "symbol=-0.3373086724046094<br>x=%{x}<br>index=%{y}<br>color=%{marker.color}<extra></extra>",
         "legendgroup": "-0.3373086724046094",
         "marker": {
          "color": [
           -0.3373086724046094
          ],
          "coloraxis": "coloraxis",
          "symbol": "x"
         },
         "mode": "markers",
         "name": "-0.3373086724046094",
         "orientation": "h",
         "showlegend": true,
         "type": "scatter",
         "x": [
          0.6557128414152897
         ],
         "xaxis": "x",
         "y": [
          13
         ],
         "yaxis": "y"
        },
        {
         "hovertemplate": "symbol=-0.9989087685722642<br>x=%{x}<br>index=%{y}<br>color=%{marker.color}<extra></extra>",
         "legendgroup": "-0.9989087685722642",
         "marker": {
          "color": [
           -0.9989087685722642
          ],
          "coloraxis": "coloraxis",
          "symbol": "cross"
         },
         "mode": "markers",
         "name": "-0.9989087685722642",
         "orientation": "h",
         "showlegend": true,
         "type": "scatter",
         "x": [
          -0.24845621883233857
         ],
         "xaxis": "x",
         "y": [
          14
         ],
         "yaxis": "y"
        },
        {
         "hovertemplate": "symbol=0.2525745677697253<br>x=%{x}<br>index=%{y}<br>color=%{marker.color}<extra></extra>",
         "legendgroup": "0.2525745677697253",
         "marker": {
          "color": [
           0.2525745677697253
          ],
          "coloraxis": "coloraxis",
          "symbol": "circle"
         },
         "mode": "markers",
         "name": "0.2525745677697253",
         "orientation": "h",
         "showlegend": true,
         "type": "scatter",
         "x": [
          0.24375525300552225
         ],
         "xaxis": "x",
         "y": [
          15
         ],
         "yaxis": "y"
        },
        {
         "hovertemplate": "symbol=-2.4761770765567963<br>x=%{x}<br>index=%{y}<br>color=%{marker.color}<extra></extra>",
         "legendgroup": "-2.4761770765567963",
         "marker": {
          "color": [
           -2.4761770765567963
          ],
          "coloraxis": "coloraxis",
          "symbol": "diamond"
         },
         "mode": "markers",
         "name": "-2.4761770765567963",
         "orientation": "h",
         "showlegend": true,
         "type": "scatter",
         "x": [
          1.7232570275542716
         ],
         "xaxis": "x",
         "y": [
          16
         ],
         "yaxis": "y"
        },
        {
         "hovertemplate": "symbol=1.7330304360369158<br>x=%{x}<br>index=%{y}<br>color=%{marker.color}<extra></extra>",
         "legendgroup": "1.7330304360369158",
         "marker": {
          "color": [
           1.7330304360369158
          ],
          "coloraxis": "coloraxis",
          "symbol": "square"
         },
         "mode": "markers",
         "name": "1.7330304360369158",
         "orientation": "h",
         "showlegend": true,
         "type": "scatter",
         "x": [
          -1.4689058810402744
         ],
         "xaxis": "x",
         "y": [
          17
         ],
         "yaxis": "y"
        },
        {
         "hovertemplate": "symbol=0.46205374292492635<br>x=%{x}<br>index=%{y}<br>color=%{marker.color}<extra></extra>",
         "legendgroup": "0.46205374292492635",
         "marker": {
          "color": [
           0.46205374292492635
          ],
          "coloraxis": "coloraxis",
          "symbol": "x"
         },
         "mode": "markers",
         "name": "0.46205374292492635",
         "orientation": "h",
         "showlegend": true,
         "type": "scatter",
         "x": [
          0.5498209564268811
         ],
         "xaxis": "x",
         "y": [
          18
         ],
         "yaxis": "y"
        },
        {
         "hovertemplate": "symbol=-1.563157943160168<br>x=%{x}<br>index=%{y}<br>color=%{marker.color}<extra></extra>",
         "legendgroup": "-1.563157943160168",
         "marker": {
          "color": [
           -1.563157943160168
          ],
          "coloraxis": "coloraxis",
          "symbol": "cross"
         },
         "mode": "markers",
         "name": "-1.563157943160168",
         "orientation": "h",
         "showlegend": true,
         "type": "scatter",
         "x": [
          0.35101037172587274
         ],
         "xaxis": "x",
         "y": [
          19
         ],
         "yaxis": "y"
        },
        {
         "hovertemplate": "symbol=0.7360002618544788<br>x=%{x}<br>index=%{y}<br>color=%{marker.color}<extra></extra>",
         "legendgroup": "0.7360002618544788",
         "marker": {
          "color": [
           0.7360002618544788
          ],
          "coloraxis": "coloraxis",
          "symbol": "circle"
         },
         "mode": "markers",
         "name": "0.7360002618544788",
         "orientation": "h",
         "showlegend": true,
         "type": "scatter",
         "x": [
          -0.44074283553711857
         ],
         "xaxis": "x",
         "y": [
          20
         ],
         "yaxis": "y"
        },
        {
         "hovertemplate": "symbol=0.3489613080069584<br>x=%{x}<br>index=%{y}<br>color=%{marker.color}<extra></extra>",
         "legendgroup": "0.3489613080069584",
         "marker": {
          "color": [
           0.3489613080069584
          ],
          "coloraxis": "coloraxis",
          "symbol": "diamond"
         },
         "mode": "markers",
         "name": "0.3489613080069584",
         "orientation": "h",
         "showlegend": true,
         "type": "scatter",
         "x": [
          0.614457796160959
         ],
         "xaxis": "x",
         "y": [
          21
         ],
         "yaxis": "y"
        },
        {
         "hovertemplate": "symbol=-0.7491782346690286<br>x=%{x}<br>index=%{y}<br>color=%{marker.color}<extra></extra>",
         "legendgroup": "-0.7491782346690286",
         "marker": {
          "color": [
           -0.7491782346690286
          ],
          "coloraxis": "coloraxis",
          "symbol": "square"
         },
         "mode": "markers",
         "name": "-0.7491782346690286",
         "orientation": "h",
         "showlegend": true,
         "type": "scatter",
         "x": [
          1.4912986041944694
         ],
         "xaxis": "x",
         "y": [
          22
         ],
         "yaxis": "y"
        },
        {
         "hovertemplate": "symbol=0.5213723423605303<br>x=%{x}<br>index=%{y}<br>color=%{marker.color}<extra></extra>",
         "legendgroup": "0.5213723423605303",
         "marker": {
          "color": [
           0.5213723423605303
          ],
          "coloraxis": "coloraxis",
          "symbol": "x"
         },
         "mode": "markers",
         "name": "0.5213723423605303",
         "orientation": "h",
         "showlegend": true,
         "type": "scatter",
         "x": [
          -0.6245479880014592
         ],
         "xaxis": "x",
         "y": [
          23
         ],
         "yaxis": "y"
        },
        {
         "hovertemplate": "symbol=1.2464717744888816<br>x=%{x}<br>index=%{y}<br>color=%{marker.color}<extra></extra>",
         "legendgroup": "1.2464717744888816",
         "marker": {
          "color": [
           1.2464717744888816
          ],
          "coloraxis": "coloraxis",
          "symbol": "cross"
         },
         "mode": "markers",
         "name": "1.2464717744888816",
         "orientation": "h",
         "showlegend": true,
         "type": "scatter",
         "x": [
          0.007834727774667314
         ],
         "xaxis": "x",
         "y": [
          24
         ],
         "yaxis": "y"
        },
        {
         "hovertemplate": "symbol=-0.27576805391317594<br>x=%{x}<br>index=%{y}<br>color=%{marker.color}<extra></extra>",
         "legendgroup": "-0.27576805391317594",
         "marker": {
          "color": [
           -0.27576805391317594
          ],
          "coloraxis": "coloraxis",
          "symbol": "circle"
         },
         "mode": "markers",
         "name": "-0.27576805391317594",
         "orientation": "h",
         "showlegend": true,
         "type": "scatter",
         "x": [
          -1.1351736336447802
         ],
         "xaxis": "x",
         "y": [
          25
         ],
         "yaxis": "y"
        },
        {
         "hovertemplate": "symbol=0.5948408940446064<br>x=%{x}<br>index=%{y}<br>color=%{marker.color}<extra></extra>",
         "legendgroup": "0.5948408940446064",
         "marker": {
          "color": [
           0.5948408940446064
          ],
          "coloraxis": "coloraxis",
          "symbol": "diamond"
         },
         "mode": "markers",
         "name": "0.5948408940446064",
         "orientation": "h",
         "showlegend": true,
         "type": "scatter",
         "x": [
          -0.2671350960967605
         ],
         "xaxis": "x",
         "y": [
          26
         ],
         "yaxis": "y"
        },
        {
         "hovertemplate": "symbol=-1.6695012472412762<br>x=%{x}<br>index=%{y}<br>color=%{marker.color}<extra></extra>",
         "legendgroup": "-1.6695012472412762",
         "marker": {
          "color": [
           -1.6695012472412762
          ],
          "coloraxis": "coloraxis",
          "symbol": "square"
         },
         "mode": "markers",
         "name": "-1.6695012472412762",
         "orientation": "h",
         "showlegend": true,
         "type": "scatter",
         "x": [
          0.5471687362999456
         ],
         "xaxis": "x",
         "y": [
          27
         ],
         "yaxis": "y"
        },
        {
         "hovertemplate": "symbol=-1.2238947683111208<br>x=%{x}<br>index=%{y}<br>color=%{marker.color}<extra></extra>",
         "legendgroup": "-1.2238947683111208",
         "marker": {
          "color": [
           -1.2238947683111208
          ],
          "coloraxis": "coloraxis",
          "symbol": "x"
         },
         "mode": "markers",
         "name": "-1.2238947683111208",
         "orientation": "h",
         "showlegend": true,
         "type": "scatter",
         "x": [
          -1.6188682311989473
         ],
         "xaxis": "x",
         "y": [
          28
         ],
         "yaxis": "y"
        },
        {
         "hovertemplate": "symbol=0.498752693011202<br>x=%{x}<br>index=%{y}<br>color=%{marker.color}<extra></extra>",
         "legendgroup": "0.498752693011202",
         "marker": {
          "color": [
           0.498752693011202
          ],
          "coloraxis": "coloraxis",
          "symbol": "cross"
         },
         "mode": "markers",
         "name": "0.498752693011202",
         "orientation": "h",
         "showlegend": true,
         "type": "scatter",
         "x": [
          0.3361141657501879
         ],
         "xaxis": "x",
         "y": [
          29
         ],
         "yaxis": "y"
        },
        {
         "hovertemplate": "symbol=0.14565299840970267<br>x=%{x}<br>index=%{y}<br>color=%{marker.color}<extra></extra>",
         "legendgroup": "0.14565299840970267",
         "marker": {
          "color": [
           0.14565299840970267
          ],
          "coloraxis": "coloraxis",
          "symbol": "circle"
         },
         "mode": "markers",
         "name": "0.14565299840970267",
         "orientation": "h",
         "showlegend": true,
         "type": "scatter",
         "x": [
          -0.8608683667359688
         ],
         "xaxis": "x",
         "y": [
          30
         ],
         "yaxis": "y"
        },
        {
         "hovertemplate": "symbol=-0.29078977112189197<br>x=%{x}<br>index=%{y}<br>color=%{marker.color}<extra></extra>",
         "legendgroup": "-0.29078977112189197",
         "marker": {
          "color": [
           -0.29078977112189197
          ],
          "coloraxis": "coloraxis",
          "symbol": "diamond"
         },
         "mode": "markers",
         "name": "-0.29078977112189197",
         "orientation": "h",
         "showlegend": true,
         "type": "scatter",
         "x": [
          0.7506458792954132
         ],
         "xaxis": "x",
         "y": [
          31
         ],
         "yaxis": "y"
        },
        {
         "hovertemplate": "symbol=0.03363969440034705<br>x=%{x}<br>index=%{y}<br>color=%{marker.color}<extra></extra>",
         "legendgroup": "0.03363969440034705",
         "marker": {
          "color": [
           0.03363969440034705
          ],
          "coloraxis": "coloraxis",
          "symbol": "square"
         },
         "mode": "markers",
         "name": "0.03363969440034705",
         "orientation": "h",
         "showlegend": true,
         "type": "scatter",
         "x": [
          -1.0216718351916028
         ],
         "xaxis": "x",
         "y": [
          32
         ],
         "yaxis": "y"
        },
        {
         "hovertemplate": "symbol=-1.354076923829016<br>x=%{x}<br>index=%{y}<br>color=%{marker.color}<extra></extra>",
         "legendgroup": "-1.354076923829016",
         "marker": {
          "color": [
           -1.354076923829016
          ],
          "coloraxis": "coloraxis",
          "symbol": "x"
         },
         "mode": "markers",
         "name": "-1.354076923829016",
         "orientation": "h",
         "showlegend": true,
         "type": "scatter",
         "x": [
          0.40963012915562064
         ],
         "xaxis": "x",
         "y": [
          33
         ],
         "yaxis": "y"
        },
        {
         "hovertemplate": "symbol=-0.8105824431299369<br>x=%{x}<br>index=%{y}<br>color=%{marker.color}<extra></extra>",
         "legendgroup": "-0.8105824431299369",
         "marker": {
          "color": [
           -0.8105824431299369
          ],
          "coloraxis": "coloraxis",
          "symbol": "cross"
         },
         "mode": "markers",
         "name": "-0.8105824431299369",
         "orientation": "h",
         "showlegend": true,
         "type": "scatter",
         "x": [
          1.470068624407482
         ],
         "xaxis": "x",
         "y": [
          34
         ],
         "yaxis": "y"
        },
        {
         "hovertemplate": "symbol=0.38299259322511753<br>x=%{x}<br>index=%{y}<br>color=%{marker.color}<extra></extra>",
         "legendgroup": "0.38299259322511753",
         "marker": {
          "color": [
           0.38299259322511753
          ],
          "coloraxis": "coloraxis",
          "symbol": "circle"
         },
         "mode": "markers",
         "name": "0.38299259322511753",
         "orientation": "h",
         "showlegend": true,
         "type": "scatter",
         "x": [
          -0.5512221518962267
         ],
         "xaxis": "x",
         "y": [
          35
         ],
         "yaxis": "y"
        },
        {
         "hovertemplate": "symbol=-1.5513986862750482<br>x=%{x}<br>index=%{y}<br>color=%{marker.color}<extra></extra>",
         "legendgroup": "-1.5513986862750482",
         "marker": {
          "color": [
           -1.5513986862750482
          ],
          "coloraxis": "coloraxis",
          "symbol": "diamond"
         },
         "mode": "markers",
         "name": "-1.5513986862750482",
         "orientation": "h",
         "showlegend": true,
         "type": "scatter",
         "x": [
          -0.48791542881558
         ],
         "xaxis": "x",
         "y": [
          36
         ],
         "yaxis": "y"
        },
        {
         "hovertemplate": "symbol=-0.2758725801322602<br>x=%{x}<br>index=%{y}<br>color=%{marker.color}<extra></extra>",
         "legendgroup": "-0.2758725801322602",
         "marker": {
          "color": [
           -0.2758725801322602
          ],
          "coloraxis": "coloraxis",
          "symbol": "square"
         },
         "mode": "markers",
         "name": "-0.2758725801322602",
         "orientation": "h",
         "showlegend": true,
         "type": "scatter",
         "x": [
          -3.5118216629635635
         ],
         "xaxis": "x",
         "y": [
          37
         ],
         "yaxis": "y"
        },
        {
         "hovertemplate": "symbol=0.7137615547616898<br>x=%{x}<br>index=%{y}<br>color=%{marker.color}<extra></extra>",
         "legendgroup": "0.7137615547616898",
         "marker": {
          "color": [
           0.7137615547616898
          ],
          "coloraxis": "coloraxis",
          "symbol": "x"
         },
         "mode": "markers",
         "name": "0.7137615547616898",
         "orientation": "h",
         "showlegend": true,
         "type": "scatter",
         "x": [
          1.3618311729709212
         ],
         "xaxis": "x",
         "y": [
          38
         ],
         "yaxis": "y"
        },
        {
         "hovertemplate": "symbol=-1.213407636830287<br>x=%{x}<br>index=%{y}<br>color=%{marker.color}<extra></extra>",
         "legendgroup": "-1.213407636830287",
         "marker": {
          "color": [
           -1.213407636830287
          ],
          "coloraxis": "coloraxis",
          "symbol": "cross"
         },
         "mode": "markers",
         "name": "-1.213407636830287",
         "orientation": "h",
         "showlegend": true,
         "type": "scatter",
         "x": [
          -1.0203516569346656
         ],
         "xaxis": "x",
         "y": [
          39
         ],
         "yaxis": "y"
        },
        {
         "hovertemplate": "symbol=0.3882443565931007<br>x=%{x}<br>index=%{y}<br>color=%{marker.color}<extra></extra>",
         "legendgroup": "0.3882443565931007",
         "marker": {
          "color": [
           0.3882443565931007
          ],
          "coloraxis": "coloraxis",
          "symbol": "circle"
         },
         "mode": "markers",
         "name": "0.3882443565931007",
         "orientation": "h",
         "showlegend": true,
         "type": "scatter",
         "x": [
          -1.0133204350814846
         ],
         "xaxis": "x",
         "y": [
          40
         ],
         "yaxis": "y"
        },
        {
         "hovertemplate": "symbol=-2.008073797995622<br>x=%{x}<br>index=%{y}<br>color=%{marker.color}<extra></extra>",
         "legendgroup": "-2.008073797995622",
         "marker": {
          "color": [
           -2.008073797995622
          ],
          "coloraxis": "coloraxis",
          "symbol": "diamond"
         },
         "mode": "markers",
         "name": "-2.008073797995622",
         "orientation": "h",
         "showlegend": true,
         "type": "scatter",
         "x": [
          -0.2268953595031823
         ],
         "xaxis": "x",
         "y": [
          41
         ],
         "yaxis": "y"
        },
        {
         "hovertemplate": "symbol=0.15813751568507023<br>x=%{x}<br>index=%{y}<br>color=%{marker.color}<extra></extra>",
         "legendgroup": "0.15813751568507023",
         "marker": {
          "color": [
           0.15813751568507023
          ],
          "coloraxis": "coloraxis",
          "symbol": "square"
         },
         "mode": "markers",
         "name": "0.15813751568507023",
         "orientation": "h",
         "showlegend": true,
         "type": "scatter",
         "x": [
          1.4020762404060352
         ],
         "xaxis": "x",
         "y": [
          42
         ],
         "yaxis": "y"
        },
        {
         "hovertemplate": "symbol=-0.2692205355547532<br>x=%{x}<br>index=%{y}<br>color=%{marker.color}<extra></extra>",
         "legendgroup": "-0.2692205355547532",
         "marker": {
          "color": [
           -0.2692205355547532
          ],
          "coloraxis": "coloraxis",
          "symbol": "x"
         },
         "mode": "markers",
         "name": "-0.2692205355547532",
         "orientation": "h",
         "showlegend": true,
         "type": "scatter",
         "x": [
          0.3887860011919955
         ],
         "xaxis": "x",
         "y": [
          43
         ],
         "yaxis": "y"
        },
        {
         "hovertemplate": "symbol=0.08788487688680331<br>x=%{x}<br>index=%{y}<br>color=%{marker.color}<extra></extra>",
         "legendgroup": "0.08788487688680331",
         "marker": {
          "color": [
           0.08788487688680331
          ],
          "coloraxis": "coloraxis",
          "symbol": "cross"
         },
         "mode": "markers",
         "name": "0.08788487688680331",
         "orientation": "h",
         "showlegend": true,
         "type": "scatter",
         "x": [
          -0.5356583891755152
         ],
         "xaxis": "x",
         "y": [
          44
         ],
         "yaxis": "y"
        },
        {
         "hovertemplate": "symbol=-1.4097470456115433<br>x=%{x}<br>index=%{y}<br>color=%{marker.color}<extra></extra>",
         "legendgroup": "-1.4097470456115433",
         "marker": {
          "color": [
           -1.4097470456115433
          ],
          "coloraxis": "coloraxis",
          "symbol": "circle"
         },
         "mode": "markers",
         "name": "-1.4097470456115433",
         "orientation": "h",
         "showlegend": true,
         "type": "scatter",
         "x": [
          -0.11454848660638799
         ],
         "xaxis": "x",
         "y": [
          45
         ],
         "yaxis": "y"
        },
        {
         "hovertemplate": "symbol=1.3171078838403816<br>x=%{x}<br>index=%{y}<br>color=%{marker.color}<extra></extra>",
         "legendgroup": "1.3171078838403816",
         "marker": {
          "color": [
           1.3171078838403816
          ],
          "coloraxis": "coloraxis",
          "symbol": "diamond"
         },
         "mode": "markers",
         "name": "1.3171078838403816",
         "orientation": "h",
         "showlegend": true,
         "type": "scatter",
         "x": [
          1.00154217358085
         ],
         "xaxis": "x",
         "y": [
          46
         ],
         "yaxis": "y"
        },
        {
         "hovertemplate": "symbol=0.3050692556970106<br>x=%{x}<br>index=%{y}<br>color=%{marker.color}<extra></extra>",
         "legendgroup": "0.3050692556970106",
         "marker": {
          "color": [
           0.3050692556970106
          ],
          "coloraxis": "coloraxis",
          "symbol": "square"
         },
         "mode": "markers",
         "name": "0.3050692556970106",
         "orientation": "h",
         "showlegend": true,
         "type": "scatter",
         "x": [
          1.818445149016997
         ],
         "xaxis": "x",
         "y": [
          47
         ],
         "yaxis": "y"
        },
        {
         "hovertemplate": "symbol=0.33607598870482197<br>x=%{x}<br>index=%{y}<br>color=%{marker.color}<extra></extra>",
         "legendgroup": "0.33607598870482197",
         "marker": {
          "color": [
           0.33607598870482197
          ],
          "coloraxis": "coloraxis",
          "symbol": "x"
         },
         "mode": "markers",
         "name": "0.33607598870482197",
         "orientation": "h",
         "showlegend": true,
         "type": "scatter",
         "x": [
          -0.26593340620617706
         ],
         "xaxis": "x",
         "y": [
          48
         ],
         "yaxis": "y"
        },
        {
         "hovertemplate": "symbol=-0.6185355554431194<br>x=%{x}<br>index=%{y}<br>color=%{marker.color}<extra></extra>",
         "legendgroup": "-0.6185355554431194",
         "marker": {
          "color": [
           -0.6185355554431194
          ],
          "coloraxis": "coloraxis",
          "symbol": "cross"
         },
         "mode": "markers",
         "name": "-0.6185355554431194",
         "orientation": "h",
         "showlegend": true,
         "type": "scatter",
         "x": [
          0.39950749191466456
         ],
         "xaxis": "x",
         "y": [
          49
         ],
         "yaxis": "y"
        },
        {
         "hovertemplate": "symbol=0.99115074314329<br>x=%{x}<br>index=%{y}<br>color=%{marker.color}<extra></extra>",
         "legendgroup": "0.99115074314329",
         "marker": {
          "color": [
           0.99115074314329
          ],
          "coloraxis": "coloraxis",
          "symbol": "circle"
         },
         "mode": "markers",
         "name": "0.99115074314329",
         "orientation": "h",
         "showlegend": true,
         "type": "scatter",
         "x": [
          0.9109872093880994
         ],
         "xaxis": "x",
         "y": [
          50
         ],
         "yaxis": "y"
        },
        {
         "hovertemplate": "symbol=-0.3400959413599289<br>x=%{x}<br>index=%{y}<br>color=%{marker.color}<extra></extra>",
         "legendgroup": "-0.3400959413599289",
         "marker": {
          "color": [
           -0.3400959413599289
          ],
          "coloraxis": "coloraxis",
          "symbol": "diamond"
         },
         "mode": "markers",
         "name": "-0.3400959413599289",
         "orientation": "h",
         "showlegend": true,
         "type": "scatter",
         "x": [
          -1.1988456624272468
         ],
         "xaxis": "x",
         "y": [
          51
         ],
         "yaxis": "y"
        },
        {
         "hovertemplate": "symbol=-0.9273287308669268<br>x=%{x}<br>index=%{y}<br>color=%{marker.color}<extra></extra>",
         "legendgroup": "-0.9273287308669268",
         "marker": {
          "color": [
           -0.9273287308669268
          ],
          "coloraxis": "coloraxis",
          "symbol": "square"
         },
         "mode": "markers",
         "name": "-0.9273287308669268",
         "orientation": "h",
         "showlegend": true,
         "type": "scatter",
         "x": [
          0.16546266126964262
         ],
         "xaxis": "x",
         "y": [
          52
         ],
         "yaxis": "y"
        },
        {
         "hovertemplate": "symbol=-2.1841525531148385<br>x=%{x}<br>index=%{y}<br>color=%{marker.color}<extra></extra>",
         "legendgroup": "-2.1841525531148385",
         "marker": {
          "color": [
           -2.1841525531148385
          ],
          "coloraxis": "coloraxis",
          "symbol": "x"
         },
         "mode": "markers",
         "name": "-2.1841525531148385",
         "orientation": "h",
         "showlegend": true,
         "type": "scatter",
         "x": [
          -0.37452877022852404
         ],
         "xaxis": "x",
         "y": [
          53
         ],
         "yaxis": "y"
        },
        {
         "hovertemplate": "symbol=-1.1101331498414295<br>x=%{x}<br>index=%{y}<br>color=%{marker.color}<extra></extra>",
         "legendgroup": "-1.1101331498414295",
         "marker": {
          "color": [
           -1.1101331498414295
          ],
          "coloraxis": "coloraxis",
          "symbol": "cross"
         },
         "mode": "markers",
         "name": "-1.1101331498414295",
         "orientation": "h",
         "showlegend": true,
         "type": "scatter",
         "x": [
          0.7453623547979538
         ],
         "xaxis": "x",
         "y": [
          54
         ],
         "yaxis": "y"
        },
        {
         "hovertemplate": "symbol=1.5590746724686577<br>x=%{x}<br>index=%{y}<br>color=%{marker.color}<extra></extra>",
         "legendgroup": "1.5590746724686577",
         "marker": {
          "color": [
           1.5590746724686577
          ],
          "coloraxis": "coloraxis",
          "symbol": "circle"
         },
         "mode": "markers",
         "name": "1.5590746724686577",
         "orientation": "h",
         "showlegend": true,
         "type": "scatter",
         "x": [
          -0.28103842107027294
         ],
         "xaxis": "x",
         "y": [
          55
         ],
         "yaxis": "y"
        },
        {
         "hovertemplate": "symbol=0.6547463505961678<br>x=%{x}<br>index=%{y}<br>color=%{marker.color}<extra></extra>",
         "legendgroup": "0.6547463505961678",
         "marker": {
          "color": [
           0.6547463505961678
          ],
          "coloraxis": "coloraxis",
          "symbol": "diamond"
         },
         "mode": "markers",
         "name": "0.6547463505961678",
         "orientation": "h",
         "showlegend": true,
         "type": "scatter",
         "x": [
          -1.312514255485354
         ],
         "xaxis": "x",
         "y": [
          56
         ],
         "yaxis": "y"
        },
        {
         "hovertemplate": "symbol=-0.2085652584996167<br>x=%{x}<br>index=%{y}<br>color=%{marker.color}<extra></extra>",
         "legendgroup": "-0.2085652584996167",
         "marker": {
          "color": [
           -0.2085652584996167
          ],
          "coloraxis": "coloraxis",
          "symbol": "square"
         },
         "mode": "markers",
         "name": "-0.2085652584996167",
         "orientation": "h",
         "showlegend": true,
         "type": "scatter",
         "x": [
          -0.856032086475448
         ],
         "xaxis": "x",
         "y": [
          57
         ],
         "yaxis": "y"
        },
        {
         "hovertemplate": "symbol=-0.1546766390188769<br>x=%{x}<br>index=%{y}<br>color=%{marker.color}<extra></extra>",
         "legendgroup": "-0.1546766390188769",
         "marker": {
          "color": [
           -0.1546766390188769
          ],
          "coloraxis": "coloraxis",
          "symbol": "x"
         },
         "mode": "markers",
         "name": "-0.1546766390188769",
         "orientation": "h",
         "showlegend": true,
         "type": "scatter",
         "x": [
          -1.2994688968442516
         ],
         "xaxis": "x",
         "y": [
          58
         ],
         "yaxis": "y"
        },
        {
         "hovertemplate": "symbol=-0.23615111849773496<br>x=%{x}<br>index=%{y}<br>color=%{marker.color}<extra></extra>",
         "legendgroup": "-0.23615111849773496",
         "marker": {
          "color": [
           -0.23615111849773496
          ],
          "coloraxis": "coloraxis",
          "symbol": "cross"
         },
         "mode": "markers",
         "name": "-0.23615111849773496",
         "orientation": "h",
         "showlegend": true,
         "type": "scatter",
         "x": [
          0.2234514313000452
         ],
         "xaxis": "x",
         "y": [
          59
         ],
         "yaxis": "y"
        },
        {
         "hovertemplate": "symbol=0.25089019245897093<br>x=%{x}<br>index=%{y}<br>color=%{marker.color}<extra></extra>",
         "legendgroup": "0.25089019245897093",
         "marker": {
          "color": [
           0.25089019245897093
          ],
          "coloraxis": "coloraxis",
          "symbol": "circle"
         },
         "mode": "markers",
         "name": "0.25089019245897093",
         "orientation": "h",
         "showlegend": true,
         "type": "scatter",
         "x": [
          0.5892208487804178
         ],
         "xaxis": "x",
         "y": [
          60
         ],
         "yaxis": "y"
        },
        {
         "hovertemplate": "symbol=-0.8609245917638776<br>x=%{x}<br>index=%{y}<br>color=%{marker.color}<extra></extra>",
         "legendgroup": "-0.8609245917638776",
         "marker": {
          "color": [
           -0.8609245917638776
          ],
          "coloraxis": "coloraxis",
          "symbol": "diamond"
         },
         "mode": "markers",
         "name": "-0.8609245917638776",
         "orientation": "h",
         "showlegend": true,
         "type": "scatter",
         "x": [
          1.0221289742884179
         ],
         "xaxis": "x",
         "y": [
          61
         ],
         "yaxis": "y"
        },
        {
         "hovertemplate": "symbol=0.44935695023728145<br>x=%{x}<br>index=%{y}<br>color=%{marker.color}<extra></extra>",
         "legendgroup": "0.44935695023728145",
         "marker": {
          "color": [
           0.44935695023728145
          ],
          "coloraxis": "coloraxis",
          "symbol": "square"
         },
         "mode": "markers",
         "name": "0.44935695023728145",
         "orientation": "h",
         "showlegend": true,
         "type": "scatter",
         "x": [
          -0.3489045102040325
         ],
         "xaxis": "x",
         "y": [
          62
         ],
         "yaxis": "y"
        },
        {
         "hovertemplate": "symbol=-1.5663019142876047<br>x=%{x}<br>index=%{y}<br>color=%{marker.color}<extra></extra>",
         "legendgroup": "-1.5663019142876047",
         "marker": {
          "color": [
           -1.5663019142876047
          ],
          "coloraxis": "coloraxis",
          "symbol": "x"
         },
         "mode": "markers",
         "name": "-1.5663019142876047",
         "orientation": "h",
         "showlegend": true,
         "type": "scatter",
         "x": [
          0.46627950832470905
         ],
         "xaxis": "x",
         "y": [
          63
         ],
         "yaxis": "y"
        },
        {
         "hovertemplate": "symbol=-0.35580641874222785<br>x=%{x}<br>index=%{y}<br>color=%{marker.color}<extra></extra>",
         "legendgroup": "-0.35580641874222785",
         "marker": {
          "color": [
           -0.35580641874222785
          ],
          "coloraxis": "coloraxis",
          "symbol": "cross"
         },
         "mode": "markers",
         "name": "-0.35580641874222785",
         "orientation": "h",
         "showlegend": true,
         "type": "scatter",
         "x": [
          1.2028019369397867
         ],
         "xaxis": "x",
         "y": [
          64
         ],
         "yaxis": "y"
        },
        {
         "hovertemplate": "symbol=-0.7190827735079725<br>x=%{x}<br>index=%{y}<br>color=%{marker.color}<extra></extra>",
         "legendgroup": "-0.7190827735079725",
         "marker": {
          "color": [
           -0.7190827735079725
          ],
          "coloraxis": "coloraxis",
          "symbol": "circle"
         },
         "mode": "markers",
         "name": "-0.7190827735079725",
         "orientation": "h",
         "showlegend": true,
         "type": "scatter",
         "x": [
          0.42935461202331343
         ],
         "xaxis": "x",
         "y": [
          65
         ],
         "yaxis": "y"
        },
        {
         "hovertemplate": "symbol=0.946625688219376<br>x=%{x}<br>index=%{y}<br>color=%{marker.color}<extra></extra>",
         "legendgroup": "0.946625688219376",
         "marker": {
          "color": [
           0.946625688219376
          ],
          "coloraxis": "coloraxis",
          "symbol": "diamond"
         },
         "mode": "markers",
         "name": "0.946625688219376",
         "orientation": "h",
         "showlegend": true,
         "type": "scatter",
         "x": [
          -2.027724161271915
         ],
         "xaxis": "x",
         "y": [
          66
         ],
         "yaxis": "y"
        },
        {
         "hovertemplate": "symbol=0.31291143454980647<br>x=%{x}<br>index=%{y}<br>color=%{marker.color}<extra></extra>",
         "legendgroup": "0.31291143454980647",
         "marker": {
          "color": [
           0.31291143454980647
          ],
          "coloraxis": "coloraxis",
          "symbol": "square"
         },
         "mode": "markers",
         "name": "0.31291143454980647",
         "orientation": "h",
         "showlegend": true,
         "type": "scatter",
         "x": [
          -1.2386003385135274
         ],
         "xaxis": "x",
         "y": [
          67
         ],
         "yaxis": "y"
        },
        {
         "hovertemplate": "symbol=-1.0355753304955417<br>x=%{x}<br>index=%{y}<br>color=%{marker.color}<extra></extra>",
         "legendgroup": "-1.0355753304955417",
         "marker": {
          "color": [
           -1.0355753304955417
          ],
          "coloraxis": "coloraxis",
          "symbol": "x"
         },
         "mode": "markers",
         "name": "-1.0355753304955417",
         "orientation": "h",
         "showlegend": true,
         "type": "scatter",
         "x": [
          0.8881561349258984
         ],
         "xaxis": "x",
         "y": [
          68
         ],
         "yaxis": "y"
        },
        {
         "hovertemplate": "symbol=0.3258481733601455<br>x=%{x}<br>index=%{y}<br>color=%{marker.color}<extra></extra>",
         "legendgroup": "0.3258481733601455",
         "marker": {
          "color": [
           0.3258481733601455
          ],
          "coloraxis": "coloraxis",
          "symbol": "cross"
         },
         "mode": "markers",
         "name": "0.3258481733601455",
         "orientation": "h",
         "showlegend": true,
         "type": "scatter",
         "x": [
          -1.3824124364453685
         ],
         "xaxis": "x",
         "y": [
          69
         ],
         "yaxis": "y"
        },
        {
         "hovertemplate": "symbol=-0.31724514016865335<br>x=%{x}<br>index=%{y}<br>color=%{marker.color}<extra></extra>",
         "legendgroup": "-0.31724514016865335",
         "marker": {
          "color": [
           -0.31724514016865335
          ],
          "coloraxis": "coloraxis",
          "symbol": "circle"
         },
         "mode": "markers",
         "name": "-0.31724514016865335",
         "orientation": "h",
         "showlegend": true,
         "type": "scatter",
         "x": [
          0.5275312275910243
         ],
         "xaxis": "x",
         "y": [
          70
         ],
         "yaxis": "y"
        },
        {
         "hovertemplate": "symbol=-0.8781535285724407<br>x=%{x}<br>index=%{y}<br>color=%{marker.color}<extra></extra>",
         "legendgroup": "-0.8781535285724407",
         "marker": {
          "color": [
           -0.8781535285724407
          ],
          "coloraxis": "coloraxis",
          "symbol": "diamond"
         },
         "mode": "markers",
         "name": "-0.8781535285724407",
         "orientation": "h",
         "showlegend": true,
         "type": "scatter",
         "x": [
          0.8422602243829796
         ],
         "xaxis": "x",
         "y": [
          71
         ],
         "yaxis": "y"
        },
        {
         "hovertemplate": "symbol=-0.524381030329562<br>x=%{x}<br>index=%{y}<br>color=%{marker.color}<extra></extra>",
         "legendgroup": "-0.524381030329562",
         "marker": {
          "color": [
           -0.524381030329562
          ],
          "coloraxis": "coloraxis",
          "symbol": "square"
         },
         "mode": "markers",
         "name": "-0.524381030329562",
         "orientation": "h",
         "showlegend": true,
         "type": "scatter",
         "x": [
          0.3827405630604504
         ],
         "xaxis": "x",
         "y": [
          72
         ],
         "yaxis": "y"
        },
        {
         "hovertemplate": "symbol=-0.6577980756897239<br>x=%{x}<br>index=%{y}<br>color=%{marker.color}<extra></extra>",
         "legendgroup": "-0.6577980756897239",
         "marker": {
          "color": [
           -0.6577980756897239
          ],
          "coloraxis": "coloraxis",
          "symbol": "x"
         },
         "mode": "markers",
         "name": "-0.6577980756897239",
         "orientation": "h",
         "showlegend": true,
         "type": "scatter",
         "x": [
          -1.5080273630373906
         ],
         "xaxis": "x",
         "y": [
          73
         ],
         "yaxis": "y"
        },
        {
         "hovertemplate": "symbol=-2.6178610798383475<br>x=%{x}<br>index=%{y}<br>color=%{marker.color}<extra></extra>",
         "legendgroup": "-2.6178610798383475",
         "marker": {
          "color": [
           -2.6178610798383475
          ],
          "coloraxis": "coloraxis",
          "symbol": "cross"
         },
         "mode": "markers",
         "name": "-2.6178610798383475",
         "orientation": "h",
         "showlegend": true,
         "type": "scatter",
         "x": [
          0.11735784243129331
         ],
         "xaxis": "x",
         "y": [
          74
         ],
         "yaxis": "y"
        },
        {
         "hovertemplate": "symbol=1.893768683119084<br>x=%{x}<br>index=%{y}<br>color=%{marker.color}<extra></extra>",
         "legendgroup": "1.893768683119084",
         "marker": {
          "color": [
           1.893768683119084
          ],
          "coloraxis": "coloraxis",
          "symbol": "circle"
         },
         "mode": "markers",
         "name": "1.893768683119084",
         "orientation": "h",
         "showlegend": true,
         "type": "scatter",
         "x": [
          -0.49403462975646883
         ],
         "xaxis": "x",
         "y": [
          75
         ],
         "yaxis": "y"
        },
        {
         "hovertemplate": "symbol=1.2651895587282895<br>x=%{x}<br>index=%{y}<br>color=%{marker.color}<extra></extra>",
         "legendgroup": "1.2651895587282895",
         "marker": {
          "color": [
           1.2651895587282895
          ],
          "coloraxis": "coloraxis",
          "symbol": "diamond"
         },
         "mode": "markers",
         "name": "1.2651895587282895",
         "orientation": "h",
         "showlegend": true,
         "type": "scatter",
         "x": [
          1.1295030507497108
         ],
         "xaxis": "x",
         "y": [
          76
         ],
         "yaxis": "y"
        },
        {
         "hovertemplate": "symbol=2.393953488061505<br>x=%{x}<br>index=%{y}<br>color=%{marker.color}<extra></extra>",
         "legendgroup": "2.393953488061505",
         "marker": {
          "color": [
           2.393953488061505
          ],
          "coloraxis": "coloraxis",
          "symbol": "square"
         },
         "mode": "markers",
         "name": "2.393953488061505",
         "orientation": "h",
         "showlegend": true,
         "type": "scatter",
         "x": [
          -0.2156445861880748
         ],
         "xaxis": "x",
         "y": [
          77
         ],
         "yaxis": "y"
        },
        {
         "hovertemplate": "symbol=-0.19793237712926975<br>x=%{x}<br>index=%{y}<br>color=%{marker.color}<extra></extra>",
         "legendgroup": "-0.19793237712926975",
         "marker": {
          "color": [
           -0.19793237712926975
          ],
          "coloraxis": "coloraxis",
          "symbol": "x"
         },
         "mode": "markers",
         "name": "-0.19793237712926975",
         "orientation": "h",
         "showlegend": true,
         "type": "scatter",
         "x": [
          -1.1484150891443412
         ],
         "xaxis": "x",
         "y": [
          78
         ],
         "yaxis": "y"
        },
        {
         "hovertemplate": "symbol=-0.25334420729556967<br>x=%{x}<br>index=%{y}<br>color=%{marker.color}<extra></extra>",
         "legendgroup": "-0.25334420729556967",
         "marker": {
          "color": [
           -0.25334420729556967
          ],
          "coloraxis": "coloraxis",
          "symbol": "cross"
         },
         "mode": "markers",
         "name": "-0.25334420729556967",
         "orientation": "h",
         "showlegend": true,
         "type": "scatter",
         "x": [
          -0.38158975111039856
         ],
         "xaxis": "x",
         "y": [
          79
         ],
         "yaxis": "y"
        },
        {
         "hovertemplate": "symbol=0.2815119790873591<br>x=%{x}<br>index=%{y}<br>color=%{marker.color}<extra></extra>",
         "legendgroup": "0.2815119790873591",
         "marker": {
          "color": [
           0.2815119790873591
          ],
          "coloraxis": "coloraxis",
          "symbol": "circle"
         },
         "mode": "markers",
         "name": "0.2815119790873591",
         "orientation": "h",
         "showlegend": true,
         "type": "scatter",
         "x": [
          0.10537486957167351
         ],
         "xaxis": "x",
         "y": [
          80
         ],
         "yaxis": "y"
        },
        {
         "hovertemplate": "symbol=0.01842172137552873<br>x=%{x}<br>index=%{y}<br>color=%{marker.color}<extra></extra>",
         "legendgroup": "0.01842172137552873",
         "marker": {
          "color": [
           0.01842172137552873
          ],
          "coloraxis": "coloraxis",
          "symbol": "diamond"
         },
         "mode": "markers",
         "name": "0.01842172137552873",
         "orientation": "h",
         "showlegend": true,
         "type": "scatter",
         "x": [
          1.638733800863135
         ],
         "xaxis": "x",
         "y": [
          81
         ],
         "yaxis": "y"
        },
        {
         "hovertemplate": "symbol=0.8528642804386107<br>x=%{x}<br>index=%{y}<br>color=%{marker.color}<extra></extra>",
         "legendgroup": "0.8528642804386107",
         "marker": {
          "color": [
           0.8528642804386107
          ],
          "coloraxis": "coloraxis",
          "symbol": "square"
         },
         "mode": "markers",
         "name": "0.8528642804386107",
         "orientation": "h",
         "showlegend": true,
         "type": "scatter",
         "x": [
          -0.4037476282946117
         ],
         "xaxis": "x",
         "y": [
          82
         ],
         "yaxis": "y"
        },
        {
         "hovertemplate": "symbol=0.467932492544904<br>x=%{x}<br>index=%{y}<br>color=%{marker.color}<extra></extra>",
         "legendgroup": "0.467932492544904",
         "marker": {
          "color": [
           0.467932492544904
          ],
          "coloraxis": "coloraxis",
          "symbol": "x"
         },
         "mode": "markers",
         "name": "0.467932492544904",
         "orientation": "h",
         "showlegend": true,
         "type": "scatter",
         "x": [
          0.32632215427151595
         ],
         "xaxis": "x",
         "y": [
          83
         ],
         "yaxis": "y"
        },
        {
         "hovertemplate": "symbol=-1.1690068792588197<br>x=%{x}<br>index=%{y}<br>color=%{marker.color}<extra></extra>",
         "legendgroup": "-1.1690068792588197",
         "marker": {
          "color": [
           -1.1690068792588197
          ],
          "coloraxis": "coloraxis",
          "symbol": "cross"
         },
         "mode": "markers",
         "name": "-1.1690068792588197",
         "orientation": "h",
         "showlegend": true,
         "type": "scatter",
         "x": [
          0.5520022375180907
         ],
         "xaxis": "x",
         "y": [
          84
         ],
         "yaxis": "y"
        },
        {
         "hovertemplate": "symbol=-0.5651275729355316<br>x=%{x}<br>index=%{y}<br>color=%{marker.color}<extra></extra>",
         "legendgroup": "-0.5651275729355316",
         "marker": {
          "color": [
           -0.5651275729355316
          ],
          "coloraxis": "coloraxis",
          "symbol": "circle"
         },
         "mode": "markers",
         "name": "-0.5651275729355316",
         "orientation": "h",
         "showlegend": true,
         "type": "scatter",
         "x": [
          0.5831449561848324
         ],
         "xaxis": "x",
         "y": [
          85
         ],
         "yaxis": "y"
        },
        {
         "hovertemplate": "symbol=0.01472267656900516<br>x=%{x}<br>index=%{y}<br>color=%{marker.color}<extra></extra>",
         "legendgroup": "0.01472267656900516",
         "marker": {
          "color": [
           0.01472267656900516
          ],
          "coloraxis": "coloraxis",
          "symbol": "diamond"
         },
         "mode": "markers",
         "name": "0.01472267656900516",
         "orientation": "h",
         "showlegend": true,
         "type": "scatter",
         "x": [
          -0.8680156724091906
         ],
         "xaxis": "x",
         "y": [
          86
         ],
         "yaxis": "y"
        },
        {
         "hovertemplate": "symbol=0.9799901718110582<br>x=%{x}<br>index=%{y}<br>color=%{marker.color}<extra></extra>",
         "legendgroup": "0.9799901718110582",
         "marker": {
          "color": [
           0.9799901718110582
          ],
          "coloraxis": "coloraxis",
          "symbol": "square"
         },
         "mode": "markers",
         "name": "0.9799901718110582",
         "orientation": "h",
         "showlegend": true,
         "type": "scatter",
         "x": [
          0.453852177049542
         ],
         "xaxis": "x",
         "y": [
          87
         ],
         "yaxis": "y"
        },
        {
         "hovertemplate": "symbol=0.04972664417470569<br>x=%{x}<br>index=%{y}<br>color=%{marker.color}<extra></extra>",
         "legendgroup": "0.04972664417470569",
         "marker": {
          "color": [
           0.04972664417470569
          ],
          "coloraxis": "coloraxis",
          "symbol": "x"
         },
         "mode": "markers",
         "name": "0.04972664417470569",
         "orientation": "h",
         "showlegend": true,
         "type": "scatter",
         "x": [
          -1.9587862697493457
         ],
         "xaxis": "x",
         "y": [
          88
         ],
         "yaxis": "y"
        },
        {
         "hovertemplate": "symbol=-1.1337196709368687<br>x=%{x}<br>index=%{y}<br>color=%{marker.color}<extra></extra>",
         "legendgroup": "-1.1337196709368687",
         "marker": {
          "color": [
           -1.1337196709368687
          ],
          "coloraxis": "coloraxis",
          "symbol": "cross"
         },
         "mode": "markers",
         "name": "-1.1337196709368687",
         "orientation": "h",
         "showlegend": true,
         "type": "scatter",
         "x": [
          0.7970170378837896
         ],
         "xaxis": "x",
         "y": [
          89
         ],
         "yaxis": "y"
        },
        {
         "hovertemplate": "symbol=0.3380605166392466<br>x=%{x}<br>index=%{y}<br>color=%{marker.color}<extra></extra>",
         "legendgroup": "0.3380605166392466",
         "marker": {
          "color": [
           0.3380605166392466
          ],
          "coloraxis": "coloraxis",
          "symbol": "circle"
         },
         "mode": "markers",
         "name": "0.3380605166392466",
         "orientation": "h",
         "showlegend": true,
         "type": "scatter",
         "x": [
          -0.7317142819219521
         ],
         "xaxis": "x",
         "y": [
          90
         ],
         "yaxis": "y"
        },
        {
         "hovertemplate": "symbol=-1.6537224312070986<br>x=%{x}<br>index=%{y}<br>color=%{marker.color}<extra></extra>",
         "legendgroup": "-1.6537224312070986",
         "marker": {
          "color": [
           -1.6537224312070986
          ],
          "coloraxis": "coloraxis",
          "symbol": "diamond"
         },
         "mode": "markers",
         "name": "-1.6537224312070986",
         "orientation": "h",
         "showlegend": true,
         "type": "scatter",
         "x": [
          -0.03778182246803791
         ],
         "xaxis": "x",
         "y": [
          91
         ],
         "yaxis": "y"
        },
        {
         "hovertemplate": "symbol=-0.4927622707345881<br>x=%{x}<br>index=%{y}<br>color=%{marker.color}<extra></extra>",
         "legendgroup": "-0.4927622707345881",
         "marker": {
          "color": [
           -0.4927622707345881
          ],
          "coloraxis": "coloraxis",
          "symbol": "square"
         },
         "mode": "markers",
         "name": "-0.4927622707345881",
         "orientation": "h",
         "showlegend": true,
         "type": "scatter",
         "x": [
          -1.5796284577571569
         ],
         "xaxis": "x",
         "y": [
          92
         ],
         "yaxis": "y"
        },
        {
         "hovertemplate": "symbol=1.5092868722468349<br>x=%{x}<br>index=%{y}<br>color=%{marker.color}<extra></extra>",
         "legendgroup": "1.5092868722468349",
         "marker": {
          "color": [
           1.5092868722468349
          ],
          "coloraxis": "coloraxis",
          "symbol": "x"
         },
         "mode": "markers",
         "name": "1.5092868722468349",
         "orientation": "h",
         "showlegend": true,
         "type": "scatter",
         "x": [
          -0.5165012011922195
         ],
         "xaxis": "x",
         "y": [
          93
         ],
         "yaxis": "y"
        },
        {
         "hovertemplate": "symbol=-1.1226639180527154<br>x=%{x}<br>index=%{y}<br>color=%{marker.color}<extra></extra>",
         "legendgroup": "-1.1226639180527154",
         "marker": {
          "color": [
           -1.1226639180527154
          ],
          "coloraxis": "coloraxis",
          "symbol": "cross"
         },
         "mode": "markers",
         "name": "-1.1226639180527154",
         "orientation": "h",
         "showlegend": true,
         "type": "scatter",
         "x": [
          1.5722820126738897
         ],
         "xaxis": "x",
         "y": [
          94
         ],
         "yaxis": "y"
        },
        {
         "hovertemplate": "symbol=2.4644895985361974<br>x=%{x}<br>index=%{y}<br>color=%{marker.color}<extra></extra>",
         "legendgroup": "2.4644895985361974",
         "marker": {
          "color": [
           2.4644895985361974
          ],
          "coloraxis": "coloraxis",
          "symbol": "circle"
         },
         "mode": "markers",
         "name": "2.4644895985361974",
         "orientation": "h",
         "showlegend": true,
         "type": "scatter",
         "x": [
          -0.023819274099812833
         ],
         "xaxis": "x",
         "y": [
          95
         ],
         "yaxis": "y"
        },
        {
         "hovertemplate": "symbol=0.6709324412374453<br>x=%{x}<br>index=%{y}<br>color=%{marker.color}<extra></extra>",
         "legendgroup": "0.6709324412374453",
         "marker": {
          "color": [
           0.6709324412374453
          ],
          "coloraxis": "coloraxis",
          "symbol": "diamond"
         },
         "mode": "markers",
         "name": "0.6709324412374453",
         "orientation": "h",
         "showlegend": true,
         "type": "scatter",
         "x": [
          -1.03431116711402
         ],
         "xaxis": "x",
         "y": [
          96
         ],
         "yaxis": "y"
        },
        {
         "hovertemplate": "symbol=-0.665543725393147<br>x=%{x}<br>index=%{y}<br>color=%{marker.color}<extra></extra>",
         "legendgroup": "-0.665543725393147",
         "marker": {
          "color": [
           -0.665543725393147
          ],
          "coloraxis": "coloraxis",
          "symbol": "square"
         },
         "mode": "markers",
         "name": "-0.665543725393147",
         "orientation": "h",
         "showlegend": true,
         "type": "scatter",
         "x": [
          -0.4750715992458307
         ],
         "xaxis": "x",
         "y": [
          97
         ],
         "yaxis": "y"
        },
        {
         "hovertemplate": "symbol=-0.6366286059657209<br>x=%{x}<br>index=%{y}<br>color=%{marker.color}<extra></extra>",
         "legendgroup": "-0.6366286059657209",
         "marker": {
          "color": [
           -0.6366286059657209
          ],
          "coloraxis": "coloraxis",
          "symbol": "x"
         },
         "mode": "markers",
         "name": "-0.6366286059657209",
         "orientation": "h",
         "showlegend": true,
         "type": "scatter",
         "x": [
          0.25978163158841244
         ],
         "xaxis": "x",
         "y": [
          98
         ],
         "yaxis": "y"
        },
        {
         "hovertemplate": "symbol=0.6757657903698397<br>x=%{x}<br>index=%{y}<br>color=%{marker.color}<extra></extra>",
         "legendgroup": "0.6757657903698397",
         "marker": {
          "color": [
           0.6757657903698397
          ],
          "coloraxis": "coloraxis",
          "symbol": "cross"
         },
         "mode": "markers",
         "name": "0.6757657903698397",
         "orientation": "h",
         "showlegend": true,
         "type": "scatter",
         "x": [
          -2.1187306896852536
         ],
         "xaxis": "x",
         "y": [
          99
         ],
         "yaxis": "y"
        }
       ],
       "layout": {
        "coloraxis": {
         "colorbar": {
          "title": {
           "text": "color"
          }
         },
         "colorscale": [
          [
           0,
           "#0d0887"
          ],
          [
           0.1111111111111111,
           "#46039f"
          ],
          [
           0.2222222222222222,
           "#7201a8"
          ],
          [
           0.3333333333333333,
           "#9c179e"
          ],
          [
           0.4444444444444444,
           "#bd3786"
          ],
          [
           0.5555555555555556,
           "#d8576b"
          ],
          [
           0.6666666666666666,
           "#ed7953"
          ],
          [
           0.7777777777777778,
           "#fb9f3a"
          ],
          [
           0.8888888888888888,
           "#fdca26"
          ],
          [
           1,
           "#f0f921"
          ]
         ]
        },
        "legend": {
         "title": {
          "text": "symbol"
         },
         "tracegroupgap": 0
        },
        "margin": {
         "t": 60
        },
        "template": {
         "data": {
          "bar": [
           {
            "error_x": {
             "color": "#2a3f5f"
            },
            "error_y": {
             "color": "#2a3f5f"
            },
            "marker": {
             "line": {
              "color": "#E5ECF6",
              "width": 0.5
             },
             "pattern": {
              "fillmode": "overlay",
              "size": 10,
              "solidity": 0.2
             }
            },
            "type": "bar"
           }
          ],
          "barpolar": [
           {
            "marker": {
             "line": {
              "color": "#E5ECF6",
              "width": 0.5
             },
             "pattern": {
              "fillmode": "overlay",
              "size": 10,
              "solidity": 0.2
             }
            },
            "type": "barpolar"
           }
          ],
          "carpet": [
           {
            "aaxis": {
             "endlinecolor": "#2a3f5f",
             "gridcolor": "white",
             "linecolor": "white",
             "minorgridcolor": "white",
             "startlinecolor": "#2a3f5f"
            },
            "baxis": {
             "endlinecolor": "#2a3f5f",
             "gridcolor": "white",
             "linecolor": "white",
             "minorgridcolor": "white",
             "startlinecolor": "#2a3f5f"
            },
            "type": "carpet"
           }
          ],
          "choropleth": [
           {
            "colorbar": {
             "outlinewidth": 0,
             "ticks": ""
            },
            "type": "choropleth"
           }
          ],
          "contour": [
           {
            "colorbar": {
             "outlinewidth": 0,
             "ticks": ""
            },
            "colorscale": [
             [
              0,
              "#0d0887"
             ],
             [
              0.1111111111111111,
              "#46039f"
             ],
             [
              0.2222222222222222,
              "#7201a8"
             ],
             [
              0.3333333333333333,
              "#9c179e"
             ],
             [
              0.4444444444444444,
              "#bd3786"
             ],
             [
              0.5555555555555556,
              "#d8576b"
             ],
             [
              0.6666666666666666,
              "#ed7953"
             ],
             [
              0.7777777777777778,
              "#fb9f3a"
             ],
             [
              0.8888888888888888,
              "#fdca26"
             ],
             [
              1,
              "#f0f921"
             ]
            ],
            "type": "contour"
           }
          ],
          "contourcarpet": [
           {
            "colorbar": {
             "outlinewidth": 0,
             "ticks": ""
            },
            "type": "contourcarpet"
           }
          ],
          "heatmap": [
           {
            "colorbar": {
             "outlinewidth": 0,
             "ticks": ""
            },
            "colorscale": [
             [
              0,
              "#0d0887"
             ],
             [
              0.1111111111111111,
              "#46039f"
             ],
             [
              0.2222222222222222,
              "#7201a8"
             ],
             [
              0.3333333333333333,
              "#9c179e"
             ],
             [
              0.4444444444444444,
              "#bd3786"
             ],
             [
              0.5555555555555556,
              "#d8576b"
             ],
             [
              0.6666666666666666,
              "#ed7953"
             ],
             [
              0.7777777777777778,
              "#fb9f3a"
             ],
             [
              0.8888888888888888,
              "#fdca26"
             ],
             [
              1,
              "#f0f921"
             ]
            ],
            "type": "heatmap"
           }
          ],
          "heatmapgl": [
           {
            "colorbar": {
             "outlinewidth": 0,
             "ticks": ""
            },
            "colorscale": [
             [
              0,
              "#0d0887"
             ],
             [
              0.1111111111111111,
              "#46039f"
             ],
             [
              0.2222222222222222,
              "#7201a8"
             ],
             [
              0.3333333333333333,
              "#9c179e"
             ],
             [
              0.4444444444444444,
              "#bd3786"
             ],
             [
              0.5555555555555556,
              "#d8576b"
             ],
             [
              0.6666666666666666,
              "#ed7953"
             ],
             [
              0.7777777777777778,
              "#fb9f3a"
             ],
             [
              0.8888888888888888,
              "#fdca26"
             ],
             [
              1,
              "#f0f921"
             ]
            ],
            "type": "heatmapgl"
           }
          ],
          "histogram": [
           {
            "marker": {
             "pattern": {
              "fillmode": "overlay",
              "size": 10,
              "solidity": 0.2
             }
            },
            "type": "histogram"
           }
          ],
          "histogram2d": [
           {
            "colorbar": {
             "outlinewidth": 0,
             "ticks": ""
            },
            "colorscale": [
             [
              0,
              "#0d0887"
             ],
             [
              0.1111111111111111,
              "#46039f"
             ],
             [
              0.2222222222222222,
              "#7201a8"
             ],
             [
              0.3333333333333333,
              "#9c179e"
             ],
             [
              0.4444444444444444,
              "#bd3786"
             ],
             [
              0.5555555555555556,
              "#d8576b"
             ],
             [
              0.6666666666666666,
              "#ed7953"
             ],
             [
              0.7777777777777778,
              "#fb9f3a"
             ],
             [
              0.8888888888888888,
              "#fdca26"
             ],
             [
              1,
              "#f0f921"
             ]
            ],
            "type": "histogram2d"
           }
          ],
          "histogram2dcontour": [
           {
            "colorbar": {
             "outlinewidth": 0,
             "ticks": ""
            },
            "colorscale": [
             [
              0,
              "#0d0887"
             ],
             [
              0.1111111111111111,
              "#46039f"
             ],
             [
              0.2222222222222222,
              "#7201a8"
             ],
             [
              0.3333333333333333,
              "#9c179e"
             ],
             [
              0.4444444444444444,
              "#bd3786"
             ],
             [
              0.5555555555555556,
              "#d8576b"
             ],
             [
              0.6666666666666666,
              "#ed7953"
             ],
             [
              0.7777777777777778,
              "#fb9f3a"
             ],
             [
              0.8888888888888888,
              "#fdca26"
             ],
             [
              1,
              "#f0f921"
             ]
            ],
            "type": "histogram2dcontour"
           }
          ],
          "mesh3d": [
           {
            "colorbar": {
             "outlinewidth": 0,
             "ticks": ""
            },
            "type": "mesh3d"
           }
          ],
          "parcoords": [
           {
            "line": {
             "colorbar": {
              "outlinewidth": 0,
              "ticks": ""
             }
            },
            "type": "parcoords"
           }
          ],
          "pie": [
           {
            "automargin": true,
            "type": "pie"
           }
          ],
          "scatter": [
           {
            "marker": {
             "colorbar": {
              "outlinewidth": 0,
              "ticks": ""
             }
            },
            "type": "scatter"
           }
          ],
          "scatter3d": [
           {
            "line": {
             "colorbar": {
              "outlinewidth": 0,
              "ticks": ""
             }
            },
            "marker": {
             "colorbar": {
              "outlinewidth": 0,
              "ticks": ""
             }
            },
            "type": "scatter3d"
           }
          ],
          "scattercarpet": [
           {
            "marker": {
             "colorbar": {
              "outlinewidth": 0,
              "ticks": ""
             }
            },
            "type": "scattercarpet"
           }
          ],
          "scattergeo": [
           {
            "marker": {
             "colorbar": {
              "outlinewidth": 0,
              "ticks": ""
             }
            },
            "type": "scattergeo"
           }
          ],
          "scattergl": [
           {
            "marker": {
             "colorbar": {
              "outlinewidth": 0,
              "ticks": ""
             }
            },
            "type": "scattergl"
           }
          ],
          "scattermapbox": [
           {
            "marker": {
             "colorbar": {
              "outlinewidth": 0,
              "ticks": ""
             }
            },
            "type": "scattermapbox"
           }
          ],
          "scatterpolar": [
           {
            "marker": {
             "colorbar": {
              "outlinewidth": 0,
              "ticks": ""
             }
            },
            "type": "scatterpolar"
           }
          ],
          "scatterpolargl": [
           {
            "marker": {
             "colorbar": {
              "outlinewidth": 0,
              "ticks": ""
             }
            },
            "type": "scatterpolargl"
           }
          ],
          "scatterternary": [
           {
            "marker": {
             "colorbar": {
              "outlinewidth": 0,
              "ticks": ""
             }
            },
            "type": "scatterternary"
           }
          ],
          "surface": [
           {
            "colorbar": {
             "outlinewidth": 0,
             "ticks": ""
            },
            "colorscale": [
             [
              0,
              "#0d0887"
             ],
             [
              0.1111111111111111,
              "#46039f"
             ],
             [
              0.2222222222222222,
              "#7201a8"
             ],
             [
              0.3333333333333333,
              "#9c179e"
             ],
             [
              0.4444444444444444,
              "#bd3786"
             ],
             [
              0.5555555555555556,
              "#d8576b"
             ],
             [
              0.6666666666666666,
              "#ed7953"
             ],
             [
              0.7777777777777778,
              "#fb9f3a"
             ],
             [
              0.8888888888888888,
              "#fdca26"
             ],
             [
              1,
              "#f0f921"
             ]
            ],
            "type": "surface"
           }
          ],
          "table": [
           {
            "cells": {
             "fill": {
              "color": "#EBF0F8"
             },
             "line": {
              "color": "white"
             }
            },
            "header": {
             "fill": {
              "color": "#C8D4E3"
             },
             "line": {
              "color": "white"
             }
            },
            "type": "table"
           }
          ]
         },
         "layout": {
          "annotationdefaults": {
           "arrowcolor": "#2a3f5f",
           "arrowhead": 0,
           "arrowwidth": 1
          },
          "autotypenumbers": "strict",
          "coloraxis": {
           "colorbar": {
            "outlinewidth": 0,
            "ticks": ""
           }
          },
          "colorscale": {
           "diverging": [
            [
             0,
             "#8e0152"
            ],
            [
             0.1,
             "#c51b7d"
            ],
            [
             0.2,
             "#de77ae"
            ],
            [
             0.3,
             "#f1b6da"
            ],
            [
             0.4,
             "#fde0ef"
            ],
            [
             0.5,
             "#f7f7f7"
            ],
            [
             0.6,
             "#e6f5d0"
            ],
            [
             0.7,
             "#b8e186"
            ],
            [
             0.8,
             "#7fbc41"
            ],
            [
             0.9,
             "#4d9221"
            ],
            [
             1,
             "#276419"
            ]
           ],
           "sequential": [
            [
             0,
             "#0d0887"
            ],
            [
             0.1111111111111111,
             "#46039f"
            ],
            [
             0.2222222222222222,
             "#7201a8"
            ],
            [
             0.3333333333333333,
             "#9c179e"
            ],
            [
             0.4444444444444444,
             "#bd3786"
            ],
            [
             0.5555555555555556,
             "#d8576b"
            ],
            [
             0.6666666666666666,
             "#ed7953"
            ],
            [
             0.7777777777777778,
             "#fb9f3a"
            ],
            [
             0.8888888888888888,
             "#fdca26"
            ],
            [
             1,
             "#f0f921"
            ]
           ],
           "sequentialminus": [
            [
             0,
             "#0d0887"
            ],
            [
             0.1111111111111111,
             "#46039f"
            ],
            [
             0.2222222222222222,
             "#7201a8"
            ],
            [
             0.3333333333333333,
             "#9c179e"
            ],
            [
             0.4444444444444444,
             "#bd3786"
            ],
            [
             0.5555555555555556,
             "#d8576b"
            ],
            [
             0.6666666666666666,
             "#ed7953"
            ],
            [
             0.7777777777777778,
             "#fb9f3a"
            ],
            [
             0.8888888888888888,
             "#fdca26"
            ],
            [
             1,
             "#f0f921"
            ]
           ]
          },
          "colorway": [
           "#636efa",
           "#EF553B",
           "#00cc96",
           "#ab63fa",
           "#FFA15A",
           "#19d3f3",
           "#FF6692",
           "#B6E880",
           "#FF97FF",
           "#FECB52"
          ],
          "font": {
           "color": "#2a3f5f"
          },
          "geo": {
           "bgcolor": "white",
           "lakecolor": "white",
           "landcolor": "#E5ECF6",
           "showlakes": true,
           "showland": true,
           "subunitcolor": "white"
          },
          "hoverlabel": {
           "align": "left"
          },
          "hovermode": "closest",
          "mapbox": {
           "style": "light"
          },
          "paper_bgcolor": "white",
          "plot_bgcolor": "#E5ECF6",
          "polar": {
           "angularaxis": {
            "gridcolor": "white",
            "linecolor": "white",
            "ticks": ""
           },
           "bgcolor": "#E5ECF6",
           "radialaxis": {
            "gridcolor": "white",
            "linecolor": "white",
            "ticks": ""
           }
          },
          "scene": {
           "xaxis": {
            "backgroundcolor": "#E5ECF6",
            "gridcolor": "white",
            "gridwidth": 2,
            "linecolor": "white",
            "showbackground": true,
            "ticks": "",
            "zerolinecolor": "white"
           },
           "yaxis": {
            "backgroundcolor": "#E5ECF6",
            "gridcolor": "white",
            "gridwidth": 2,
            "linecolor": "white",
            "showbackground": true,
            "ticks": "",
            "zerolinecolor": "white"
           },
           "zaxis": {
            "backgroundcolor": "#E5ECF6",
            "gridcolor": "white",
            "gridwidth": 2,
            "linecolor": "white",
            "showbackground": true,
            "ticks": "",
            "zerolinecolor": "white"
           }
          },
          "shapedefaults": {
           "line": {
            "color": "#2a3f5f"
           }
          },
          "ternary": {
           "aaxis": {
            "gridcolor": "white",
            "linecolor": "white",
            "ticks": ""
           },
           "baxis": {
            "gridcolor": "white",
            "linecolor": "white",
            "ticks": ""
           },
           "bgcolor": "#E5ECF6",
           "caxis": {
            "gridcolor": "white",
            "linecolor": "white",
            "ticks": ""
           }
          },
          "title": {
           "x": 0.05
          },
          "xaxis": {
           "automargin": true,
           "gridcolor": "white",
           "linecolor": "white",
           "ticks": "",
           "title": {
            "standoff": 15
           },
           "zerolinecolor": "white",
           "zerolinewidth": 2
          },
          "yaxis": {
           "automargin": true,
           "gridcolor": "white",
           "linecolor": "white",
           "ticks": "",
           "title": {
            "standoff": 15
           },
           "zerolinecolor": "white",
           "zerolinewidth": 2
          }
         }
        },
        "xaxis": {
         "anchor": "y",
         "domain": [
          0,
          1
         ],
         "title": {
          "text": "x"
         }
        },
        "yaxis": {
         "anchor": "x",
         "domain": [
          0,
          1
         ],
         "title": {
          "text": "index"
         }
        }
       }
      }
     },
     "metadata": {}
    }
   ],
   "metadata": {}
  }
 ],
 "metadata": {
  "orig_nbformat": 4,
  "language_info": {
   "name": "python",
   "version": "3.8.10",
   "mimetype": "text/x-python",
   "codemirror_mode": {
    "name": "ipython",
    "version": 3
   },
   "pygments_lexer": "ipython3",
   "nbconvert_exporter": "python",
   "file_extension": ".py"
  },
  "kernelspec": {
   "name": "python3",
   "display_name": "Python 3.8.10 64-bit"
  },
  "interpreter": {
   "hash": "916dbcbb3f70747c44a77c7bcd40155683ae19c65e1c03b4aa3499c5328201f1"
  }
 },
 "nbformat": 4,
 "nbformat_minor": 2
}