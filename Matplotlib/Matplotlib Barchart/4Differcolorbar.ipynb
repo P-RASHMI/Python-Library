{
 "cells": [
  {
   "cell_type": "code",
   "execution_count": 14,
   "source": [
    "'''\n",
    "@Author: Rashmi\n",
    "@Date: 2021-10-7 15:35\n",
    "@Last Modified by: Rashmi\n",
    "@Last Modified time: 2021-10-7 15:59\n",
    "@Title :Write a Python programming to display a bar chart of the popularity of programming\n",
    "Languages. Use different color for each bar.\n",
    "Sample data:\n",
    "Programming languages: Java, Python, PHP, JavaScript, C#, C++\n",
    "Popularity: 22.2, 17.6, 8.8, 8, 7.7, 6.7\n",
    "'''\n",
    "import matplotlib.pyplot as plt\n",
    "import numpy as np\n",
    "\n",
    "pgm_lang = ['Java','Python','PHP','JavaScript','C#','C++']\n",
    "Popularity = [22.2, 17.6, 8.8, 8, 7.7, 6.7]\n",
    "xpos = np.arange(len(pgm_lang)) #xpos is array \n",
    "plt.xticks(xpos,pgm_lang)\n",
    "plt.xlabel(\"programming langs\")\n",
    "plt.ylabel(\"Popularity\")\n",
    "plt.title(\"bar chart of the popularity of programming Languages\")\n",
    "plt.bar(xpos,Popularity,width =0.4,color = ['cyan','yellow','green','orange','red','blue'])"
   ],
   "outputs": [
    {
     "output_type": "execute_result",
     "data": {
      "text/plain": [
       "<BarContainer object of 6 artists>"
      ]
     },
     "metadata": {},
     "execution_count": 14
    },
    {
     "output_type": "display_data",
     "data": {
      "image/png": "[encoded data removed]",
      "text/plain": [
       "<Figure size 432x288 with 1 Axes>"
      ]
     },
     "metadata": {
      "needs_background": "light"
     }
    }
   ],
   "metadata": {}
  }
 ],
 "metadata": {
  "orig_nbformat": 4,
  "language_info": {
   "name": "python",
   "version": "3.8.10",
   "mimetype": "text/x-python",
   "codemirror_mode": {
    "name": "ipython",
    "version": 3
   },
   "pygments_lexer": "ipython3",
   "nbconvert_exporter": "python",
   "file_extension": ".py"
  },
  "kernelspec": {
   "name": "python3",
   "display_name": "Python 3.8.10 64-bit"
  },
  "interpreter": {
   "hash": "916dbcbb3f70747c44a77c7bcd40155683ae19c65e1c03b4aa3499c5328201f1"
  }
 },
 "nbformat": 4,
 "nbformat_minor": 2
}