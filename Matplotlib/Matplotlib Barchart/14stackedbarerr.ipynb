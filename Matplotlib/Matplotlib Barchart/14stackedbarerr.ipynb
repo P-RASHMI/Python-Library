{
 "cells": [
  {
   "cell_type": "code",
   "execution_count": 3,
   "source": [
    "'''\n",
    "@Author: Rashmi\n",
    "@Date: 2021-10-7 20:30\n",
    "@Last Modified by: Rashmi\n",
    "@Last Modified time: 2021-10-7 20:44\n",
    "@Title :​Write a Python program to create a stacked bar plot with error bars.\n",
    "Note: Use bottom to stack the women?s bars on top of the men?s bars.\n",
    "Sample Data:\n",
    "Means (men) = (22, 30, 35, 35, 26)\n",
    "Means (women) = (25, 32, 30, 35, 29)\n",
    "Men Standard deviation = (4, 3, 4, 1, 5)\n",
    "Women Standard deviation = (3, 5, 2, 3, 3)\n",
    "'''\n",
    "import numpy as np\n",
    "import matplotlib.pyplot as plt\n",
    "\n",
    "N = 5\n",
    "menMeans = (22, 30, 35, 35, 26)\n",
    "womenMeans = (25, 32, 30, 35, 29)\n",
    "menStd = (4, 3, 4, 1, 5)\n",
    "womenStd = (3, 5, 2, 3, 3)\n",
    "ind = np.arange(N)    \n",
    "width = 0.35      \n",
    "p1 = plt.bar(ind, menMeans, width, yerr=menStd, color='yellow')\n",
    "p2 = plt.bar(ind, womenMeans, width,bottom=menMeans, yerr=womenStd, color='pink')\n",
    "plt.ylabel('Scores')\n",
    "plt.xlabel('Groups')\n",
    "plt.title('Scores by group\\n' + 'and gender')\n",
    "plt.xticks(ind, ('Group1', 'Group2', 'Group3', 'Group4', 'Group5'))\n",
    "plt.yticks(np.arange(0, 81, 10))\n",
    "plt.legend((p1[0], p2[0]), ('Men', 'Women'))\n",
    "plt.show()"
   ],
   "outputs": [
    {
     "output_type": "display_data",
     "data": {
      "image/png": "[encoded data removed]",
      "text/plain": [
       "<Figure size 432x288 with 1 Axes>"
      ]
     },
     "metadata": {
      "needs_background": "light"
     }
    }
   ],
   "metadata": {}
  }
 ],
 "metadata": {
  "orig_nbformat": 4,
  "language_info": {
   "name": "python",
   "version": "3.8.10",
   "mimetype": "text/x-python",
   "codemirror_mode": {
    "name": "ipython",
    "version": 3
   },
   "pygments_lexer": "ipython3",
   "nbconvert_exporter": "python",
   "file_extension": ".py"
  },
  "kernelspec": {
   "name": "python3",
   "display_name": "Python 3.8.10 64-bit"
  },
  "interpreter": {
   "hash": "916dbcbb3f70747c44a77c7bcd40155683ae19c65e1c03b4aa3499c5328201f1"
  }
 },
 "nbformat": 4,
 "nbformat_minor": 2
}