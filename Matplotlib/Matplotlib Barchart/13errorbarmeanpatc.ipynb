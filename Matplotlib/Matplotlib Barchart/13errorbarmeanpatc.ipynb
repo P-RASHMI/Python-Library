{
 "cells": [
  {
   "cell_type": "code",
   "execution_count": 3,
   "source": [
    "'''\n",
    "@Author: Rashmi\n",
    "@Date: 2021-10-7 20:30\n",
    "@Last Modified by: Rashmi\n",
    "@Last Modified time: 2021-10-7 20:44\n",
    "@Title :​ Write a Python program to create bar plots with errorbars on the same figure. Attach a text\n",
    "label above each bar displaying men means (integer value).\n",
    "Sample Data\n",
    "Mean velocity: 0.2474, 0.1235, 0.1737, 0.1824\n",
    "Standard deviation of velocity: 0.3314, 0.2278, 0.2836, 0.2645\n",
    "'''\n",
    "import numpy as np\n",
    "import matplotlib.pyplot as plt\n",
    "import matplotlib.patches as mpatches\n",
    "\n",
    "N = 5\n",
    "men_means = (54.74, 42.35, 67.37, 58.24, 30.25)\n",
    "men_std= (4, 3, 4, 1, 5)\n",
    "ind = np.arange(N)  # the x locations for the groups\n",
    "width = 0.35       # the width of the bars\n",
    "fig, ax = plt.subplots()\n",
    "rects1 = ax.bar(ind, men_means, width, color='yellow', yerr=men_std)\n",
    "plt.ylabel('Scores')\n",
    "plt.xlabel('Velocity')\n",
    "plt.title('Scores by Velocity')\n",
    "red_patch = mpatches.Patch(color='yellow', label='Men')\n",
    "plt.legend(handles=[red_patch])\n",
    "def autolabel(rects):\n",
    "    \"\"\"\n",
    "    Attach a text label above each bar displaying its height\n",
    "    \"\"\"\n",
    "    for rect in rects:\n",
    "       height = rect.get_height()\n",
    "       ax.text(rect.get_x() + rect.get_width()/2., 1.05*height,\n",
    "                '%d' % int(height),\n",
    "       ha='center', va='bottom')\n",
    "autolabel(rects1)\n",
    "plt.show()"
   ],
   "outputs": [
    {
     "output_type": "display_data",
     "data": {
      "image/png": "[encoded data removed]",
      "text/plain": [
       "<Figure size 432x288 with 1 Axes>"
      ]
     },
     "metadata": {
      "needs_background": "light"
     }
    }
   ],
   "metadata": {}
  }
 ],
 "metadata": {
  "orig_nbformat": 4,
  "language_info": {
   "name": "python",
   "version": "3.8.10",
   "mimetype": "text/x-python",
   "codemirror_mode": {
    "name": "ipython",
    "version": 3
   },
   "pygments_lexer": "ipython3",
   "nbconvert_exporter": "python",
   "file_extension": ".py"
  },
  "kernelspec": {
   "name": "python3",
   "display_name": "Python 3.8.10 64-bit"
  },
  "interpreter": {
   "hash": "916dbcbb3f70747c44a77c7bcd40155683ae19c65e1c03b4aa3499c5328201f1"
  }
 },
 "nbformat": 4,
 "nbformat_minor": 2
}